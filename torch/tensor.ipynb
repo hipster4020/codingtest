{
 "cells": [
  {
   "cell_type": "code",
   "execution_count": 1,
   "id": "e6da23ed",
   "metadata": {},
   "outputs": [],
   "source": [
    "import torch"
   ]
  },
  {
   "cell_type": "code",
   "execution_count": 3,
   "id": "27b91202",
   "metadata": {},
   "outputs": [
    {
     "data": {
      "text/plain": [
       "True"
      ]
     },
     "execution_count": 3,
     "metadata": {},
     "output_type": "execute_result"
    }
   ],
   "source": [
    "torch.cuda.is_available()"
   ]
  },
  {
   "cell_type": "markdown",
   "id": "95dbc2d3",
   "metadata": {},
   "source": [
    "# *Tensor*"
   ]
  },
  {
   "cell_type": "code",
   "execution_count": 11,
   "id": "6a7ecd16",
   "metadata": {},
   "outputs": [],
   "source": [
    "def describe(x):\n",
    "    print(\"타입 : {}\".format(x.type()))\n",
    "    print(\"크기: {}\".format(x.shape))\n",
    "    print(\"값: \\n{}\".format(x))"
   ]
  },
  {
   "cell_type": "markdown",
   "id": "fa9233e4",
   "metadata": {},
   "source": [
    "### *랜덤 텐서 초기화*"
   ]
  },
  {
   "cell_type": "code",
   "execution_count": 12,
   "id": "8539ea96",
   "metadata": {},
   "outputs": [
    {
     "name": "stdout",
     "output_type": "stream",
     "text": [
      "타입 : torch.FloatTensor\n",
      "크기: torch.Size([2, 3])\n",
      "값: \n",
      "tensor([[ 1.5280e-36,  0.0000e+00, -8.4576e-15],\n",
      "        [ 4.5733e-41,  8.9683e-44,  0.0000e+00]])\n"
     ]
    }
   ],
   "source": [
    "tensor = torch.Tensor(2, 3)\n",
    "describe(tensor)"
   ]
  },
  {
   "cell_type": "markdown",
   "id": "6c7401ff",
   "metadata": {},
   "source": [
    "### *균등 분포 랜덤 텐서*"
   ]
  },
  {
   "cell_type": "code",
   "execution_count": 13,
   "id": "c97a6dd9",
   "metadata": {},
   "outputs": [
    {
     "name": "stdout",
     "output_type": "stream",
     "text": [
      "타입 : torch.FloatTensor\n",
      "크기: torch.Size([2, 3])\n",
      "값: \n",
      "tensor([[0.2888, 0.3199, 0.1762],\n",
      "        [0.7914, 0.9894, 0.5572]])\n"
     ]
    }
   ],
   "source": [
    "tensor = torch.rand(2, 3)\n",
    "describe(tensor)"
   ]
  },
  {
   "cell_type": "markdown",
   "id": "873d6b44",
   "metadata": {},
   "source": [
    "### *표준 정규 분포 랜덤 텐서*"
   ]
  },
  {
   "cell_type": "code",
   "execution_count": 14,
   "id": "62101672",
   "metadata": {},
   "outputs": [
    {
     "name": "stdout",
     "output_type": "stream",
     "text": [
      "타입 : torch.FloatTensor\n",
      "크기: torch.Size([2, 3])\n",
      "값: \n",
      "tensor([[ 0.1120, -0.0568,  0.6444],\n",
      "        [-1.6637,  0.0071, -0.9954]])\n"
     ]
    }
   ],
   "source": [
    "tensor = torch.randn(2, 3)\n",
    "describe(tensor)"
   ]
  },
  {
   "cell_type": "markdown",
   "id": "760eddef",
   "metadata": {},
   "source": [
    "### *fill_()*"
   ]
  },
  {
   "cell_type": "code",
   "execution_count": 16,
   "id": "f2789358",
   "metadata": {},
   "outputs": [
    {
     "name": "stdout",
     "output_type": "stream",
     "text": [
      "타입 : torch.FloatTensor\n",
      "크기: torch.Size([2, 3])\n",
      "값: \n",
      "tensor([[0., 0., 0.],\n",
      "        [0., 0., 0.]])\n"
     ]
    }
   ],
   "source": [
    "# 0 채우기\n",
    "tensor = torch.zeros(2, 3)\n",
    "describe(tensor)"
   ]
  },
  {
   "cell_type": "code",
   "execution_count": 18,
   "id": "9250dea1",
   "metadata": {},
   "outputs": [
    {
     "name": "stdout",
     "output_type": "stream",
     "text": [
      "타입 : torch.FloatTensor\n",
      "크기: torch.Size([2, 3])\n",
      "값: \n",
      "tensor([[1., 1., 1.],\n",
      "        [1., 1., 1.]])\n"
     ]
    }
   ],
   "source": [
    "# 1 채우기\n",
    "tensor = torch.ones(2, 3)\n",
    "describe(tensor)"
   ]
  },
  {
   "cell_type": "code",
   "execution_count": 19,
   "id": "a480b266",
   "metadata": {},
   "outputs": [
    {
     "name": "stdout",
     "output_type": "stream",
     "text": [
      "타입 : torch.FloatTensor\n",
      "크기: torch.Size([2, 3])\n",
      "값: \n",
      "tensor([[5., 5., 5.],\n",
      "        [5., 5., 5.]])\n"
     ]
    }
   ],
   "source": [
    "tensor = tensor.fill_(5)\n",
    "describe(tensor)"
   ]
  },
  {
   "cell_type": "markdown",
   "id": "52a30127",
   "metadata": {},
   "source": [
    "# "
   ]
  },
  {
   "cell_type": "markdown",
   "id": "f873822c",
   "metadata": {},
   "source": [
    "### *List to Tensor*"
   ]
  },
  {
   "cell_type": "code",
   "execution_count": 22,
   "id": "27ebadab",
   "metadata": {},
   "outputs": [],
   "source": [
    "import numpy as np"
   ]
  },
  {
   "cell_type": "code",
   "execution_count": 21,
   "id": "7b21706a",
   "metadata": {},
   "outputs": [
    {
     "name": "stdout",
     "output_type": "stream",
     "text": [
      "타입 : torch.FloatTensor\n",
      "크기: torch.Size([2, 3])\n",
      "값: \n",
      "tensor([[2., 3., 4.],\n",
      "        [5., 6., 7.]])\n"
     ]
    }
   ],
   "source": [
    "li = [[2, 3, 4], [5, 6, 7]]\n",
    "x = torch.Tensor(li)\n",
    "describe(x)"
   ]
  },
  {
   "cell_type": "markdown",
   "id": "f41b29bd",
   "metadata": {},
   "source": [
    "### *Numpy to Tensor*\n",
    "##### numpy 배열을 사용하면 텐서 타입이 기본 FloatTensor가 아니라 DoubleTensor가 됨."
   ]
  },
  {
   "cell_type": "code",
   "execution_count": 24,
   "id": "963dfbd6",
   "metadata": {},
   "outputs": [
    {
     "name": "stdout",
     "output_type": "stream",
     "text": [
      "타입 : torch.DoubleTensor\n",
      "크기: torch.Size([2, 3])\n",
      "값: \n",
      "tensor([[0.0886, 0.9384, 0.3761],\n",
      "        [0.3845, 0.5054, 0.7658]], dtype=torch.float64)\n"
     ]
    }
   ],
   "source": [
    "npy = np.random.rand(2, 3)\n",
    "describe(torch.from_numpy(npy))"
   ]
  },
  {
   "cell_type": "markdown",
   "id": "835c75bf",
   "metadata": {},
   "source": [
    "# "
   ]
  },
  {
   "cell_type": "markdown",
   "id": "18c7387c",
   "metadata": {},
   "source": [
    "### *Tensor type shape*"
   ]
  },
  {
   "cell_type": "code",
   "execution_count": null,
   "id": "733c3293",
   "metadata": {},
   "outputs": [],
   "source": []
  }
 ],
 "metadata": {
  "kernelspec": {
   "display_name": "Python 3",
   "language": "python",
   "name": "python3"
  },
  "language_info": {
   "codemirror_mode": {
    "name": "ipython",
    "version": 3
   },
   "file_extension": ".py",
   "mimetype": "text/x-python",
   "name": "python",
   "nbconvert_exporter": "python",
   "pygments_lexer": "ipython3",
   "version": "3.8.10"
  }
 },
 "nbformat": 4,
 "nbformat_minor": 5
}
