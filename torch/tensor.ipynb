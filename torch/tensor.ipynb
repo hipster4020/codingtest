{
 "cells": [
  {
   "cell_type": "code",
   "execution_count": 1,
   "id": "e6da23ed",
   "metadata": {},
   "outputs": [],
   "source": [
    "import torch"
   ]
  },
  {
   "cell_type": "code",
   "execution_count": 2,
   "id": "27b91202",
   "metadata": {},
   "outputs": [
    {
     "data": {
      "text/plain": [
       "True"
      ]
     },
     "execution_count": 2,
     "metadata": {},
     "output_type": "execute_result"
    }
   ],
   "source": [
    "torch.cuda.is_available()"
   ]
  },
  {
   "cell_type": "markdown",
   "id": "95dbc2d3",
   "metadata": {},
   "source": [
    "# *Tensor*"
   ]
  },
  {
   "cell_type": "code",
   "execution_count": 3,
   "id": "6a7ecd16",
   "metadata": {},
   "outputs": [],
   "source": [
    "def describe(x):\n",
    "    print(\"타입 : {}\".format(x.type()))\n",
    "    print(\"크기: {}\".format(x.shape))\n",
    "    print(\"값: \\n{}\".format(x))"
   ]
  },
  {
   "cell_type": "markdown",
   "id": "fa9233e4",
   "metadata": {},
   "source": [
    "### *랜덤 텐서 초기화*"
   ]
  },
  {
   "cell_type": "code",
   "execution_count": 4,
   "id": "8539ea96",
   "metadata": {},
   "outputs": [
    {
     "name": "stdout",
     "output_type": "stream",
     "text": [
      "타입 : torch.FloatTensor\n",
      "크기: torch.Size([2, 3])\n",
      "값: \n",
      "tensor([[ 2.4697e+03,  4.5839e-41,  1.2227e+15],\n",
      "        [-4.1812e+26,  4.9780e+04,  4.5839e-41]])\n"
     ]
    }
   ],
   "source": [
    "tensor = torch.Tensor(2, 3)\n",
    "describe(tensor)"
   ]
  },
  {
   "cell_type": "markdown",
   "id": "6c7401ff",
   "metadata": {},
   "source": [
    "### *균등 분포 랜덤 텐서*"
   ]
  },
  {
   "cell_type": "code",
   "execution_count": 5,
   "id": "c97a6dd9",
   "metadata": {},
   "outputs": [
    {
     "name": "stdout",
     "output_type": "stream",
     "text": [
      "타입 : torch.FloatTensor\n",
      "크기: torch.Size([2, 3])\n",
      "값: \n",
      "tensor([[0.5250, 0.1546, 0.3809],\n",
      "        [0.0429, 0.3662, 0.3237]])\n"
     ]
    }
   ],
   "source": [
    "tensor = torch.rand(2, 3)\n",
    "describe(tensor)"
   ]
  },
  {
   "cell_type": "markdown",
   "id": "873d6b44",
   "metadata": {},
   "source": [
    "### *표준 정규 분포 랜덤 텐서*"
   ]
  },
  {
   "cell_type": "code",
   "execution_count": 6,
   "id": "62101672",
   "metadata": {},
   "outputs": [
    {
     "name": "stdout",
     "output_type": "stream",
     "text": [
      "타입 : torch.FloatTensor\n",
      "크기: torch.Size([2, 3])\n",
      "값: \n",
      "tensor([[-0.1303, -1.5500, -1.1097],\n",
      "        [-0.0259,  0.8308,  0.7508]])\n"
     ]
    }
   ],
   "source": [
    "tensor = torch.randn(2, 3)\n",
    "describe(tensor)"
   ]
  },
  {
   "cell_type": "markdown",
   "id": "760eddef",
   "metadata": {},
   "source": [
    "### *fill_()*"
   ]
  },
  {
   "cell_type": "code",
   "execution_count": 7,
   "id": "f2789358",
   "metadata": {},
   "outputs": [
    {
     "name": "stdout",
     "output_type": "stream",
     "text": [
      "타입 : torch.FloatTensor\n",
      "크기: torch.Size([2, 3])\n",
      "값: \n",
      "tensor([[0., 0., 0.],\n",
      "        [0., 0., 0.]])\n"
     ]
    }
   ],
   "source": [
    "# 0 채우기\n",
    "tensor = torch.zeros(2, 3)\n",
    "describe(tensor)"
   ]
  },
  {
   "cell_type": "code",
   "execution_count": 8,
   "id": "9250dea1",
   "metadata": {},
   "outputs": [
    {
     "name": "stdout",
     "output_type": "stream",
     "text": [
      "타입 : torch.FloatTensor\n",
      "크기: torch.Size([2, 3])\n",
      "값: \n",
      "tensor([[1., 1., 1.],\n",
      "        [1., 1., 1.]])\n"
     ]
    }
   ],
   "source": [
    "# 1 채우기\n",
    "tensor = torch.ones(2, 3)\n",
    "describe(tensor)"
   ]
  },
  {
   "cell_type": "code",
   "execution_count": 9,
   "id": "a480b266",
   "metadata": {},
   "outputs": [
    {
     "name": "stdout",
     "output_type": "stream",
     "text": [
      "타입 : torch.FloatTensor\n",
      "크기: torch.Size([2, 3])\n",
      "값: \n",
      "tensor([[5., 5., 5.],\n",
      "        [5., 5., 5.]])\n"
     ]
    }
   ],
   "source": [
    "tensor = tensor.fill_(5)\n",
    "describe(tensor)"
   ]
  },
  {
   "cell_type": "markdown",
   "id": "52a30127",
   "metadata": {},
   "source": [
    "# "
   ]
  },
  {
   "cell_type": "markdown",
   "id": "f873822c",
   "metadata": {},
   "source": [
    "### *List to Tensor*"
   ]
  },
  {
   "cell_type": "code",
   "execution_count": 10,
   "id": "27ebadab",
   "metadata": {},
   "outputs": [],
   "source": [
    "import numpy as np"
   ]
  },
  {
   "cell_type": "code",
   "execution_count": 11,
   "id": "7b21706a",
   "metadata": {},
   "outputs": [
    {
     "name": "stdout",
     "output_type": "stream",
     "text": [
      "타입 : torch.FloatTensor\n",
      "크기: torch.Size([2, 3])\n",
      "값: \n",
      "tensor([[2., 3., 4.],\n",
      "        [5., 6., 7.]])\n"
     ]
    }
   ],
   "source": [
    "li = [[2, 3, 4], [5, 6, 7]]\n",
    "x = torch.Tensor(li)\n",
    "describe(x)"
   ]
  },
  {
   "cell_type": "markdown",
   "id": "f41b29bd",
   "metadata": {},
   "source": [
    "### *Numpy to Tensor*\n",
    "##### numpy 배열을 사용하면 텐서 타입이 기본 FloatTensor가 아니라 DoubleTensor가 됨."
   ]
  },
  {
   "cell_type": "code",
   "execution_count": 12,
   "id": "963dfbd6",
   "metadata": {},
   "outputs": [
    {
     "name": "stdout",
     "output_type": "stream",
     "text": [
      "타입 : torch.DoubleTensor\n",
      "크기: torch.Size([2, 3])\n",
      "값: \n",
      "tensor([[0.3427, 0.2952, 0.0955],\n",
      "        [0.0877, 0.7238, 0.6975]], dtype=torch.float64)\n"
     ]
    }
   ],
   "source": [
    "npy = np.random.rand(2, 3)\n",
    "describe(torch.from_numpy(npy))"
   ]
  },
  {
   "cell_type": "markdown",
   "id": "835c75bf",
   "metadata": {},
   "source": [
    "# "
   ]
  },
  {
   "cell_type": "markdown",
   "id": "18c7387c",
   "metadata": {},
   "source": [
    "### *Tensor type shape*"
   ]
  },
  {
   "cell_type": "markdown",
   "id": "da137430",
   "metadata": {},
   "source": [
    "##### *기본 텐서 타입 torch.FloatTensor*"
   ]
  },
  {
   "cell_type": "code",
   "execution_count": 13,
   "id": "5ab27ef2",
   "metadata": {},
   "outputs": [],
   "source": [
    "li = [[1, 2, 3],\n",
    "[4, 5, 6]]"
   ]
  },
  {
   "cell_type": "code",
   "execution_count": 14,
   "id": "733c3293",
   "metadata": {},
   "outputs": [
    {
     "name": "stdout",
     "output_type": "stream",
     "text": [
      "타입 : torch.FloatTensor\n",
      "크기: torch.Size([2, 3])\n",
      "값: \n",
      "tensor([[1., 2., 3.],\n",
      "        [4., 5., 6.]])\n"
     ]
    }
   ],
   "source": [
    "x = torch.Tensor(li)\n",
    "describe(x)"
   ]
  },
  {
   "cell_type": "code",
   "execution_count": 15,
   "id": "15b9c6c7",
   "metadata": {},
   "outputs": [
    {
     "name": "stdout",
     "output_type": "stream",
     "text": [
      "타입 : torch.FloatTensor\n",
      "크기: torch.Size([2, 3])\n",
      "값: \n",
      "tensor([[1., 2., 3.],\n",
      "        [4., 5., 6.]])\n"
     ]
    }
   ],
   "source": [
    "x1 = torch.FloatTensor(li)\n",
    "describe(x1)"
   ]
  },
  {
   "cell_type": "code",
   "execution_count": 16,
   "id": "07b25d30",
   "metadata": {},
   "outputs": [
    {
     "name": "stdout",
     "output_type": "stream",
     "text": [
      "타입 : torch.LongTensor\n",
      "크기: torch.Size([2, 3])\n",
      "값: \n",
      "tensor([[1, 2, 3],\n",
      "        [4, 5, 6]])\n"
     ]
    }
   ],
   "source": [
    "x1 = x1.long()\n",
    "describe(x1)"
   ]
  },
  {
   "cell_type": "code",
   "execution_count": 17,
   "id": "f021028f",
   "metadata": {},
   "outputs": [
    {
     "name": "stdout",
     "output_type": "stream",
     "text": [
      "타입 : torch.LongTensor\n",
      "크기: torch.Size([2, 3])\n",
      "값: \n",
      "tensor([[1, 2, 3],\n",
      "        [4, 5, 6]])\n"
     ]
    }
   ],
   "source": [
    "x2 = torch.tensor(li, dtype=torch.int64)\n",
    "describe(x2)"
   ]
  },
  {
   "cell_type": "code",
   "execution_count": 18,
   "id": "b8c1247f",
   "metadata": {},
   "outputs": [
    {
     "name": "stdout",
     "output_type": "stream",
     "text": [
      "타입 : torch.FloatTensor\n",
      "크기: torch.Size([2, 3])\n",
      "값: \n",
      "tensor([[1., 2., 3.],\n",
      "        [4., 5., 6.]])\n"
     ]
    }
   ],
   "source": [
    "x2 = x2.float()\n",
    "describe(x2)"
   ]
  },
  {
   "cell_type": "markdown",
   "id": "b659e2a9",
   "metadata": {},
   "source": [
    "# "
   ]
  },
  {
   "cell_type": "markdown",
   "id": "874e7dcd",
   "metadata": {},
   "source": [
    "### *Tensor Calculation*"
   ]
  },
  {
   "cell_type": "code",
   "execution_count": 19,
   "id": "54416785",
   "metadata": {},
   "outputs": [
    {
     "name": "stdout",
     "output_type": "stream",
     "text": [
      "타입 : torch.FloatTensor\n",
      "크기: torch.Size([2, 3])\n",
      "값: \n",
      "tensor([[-0.7083, -1.5506, -0.0478],\n",
      "        [ 0.4651, -1.1413,  0.3482]])\n"
     ]
    }
   ],
   "source": [
    "x = torch.randn(2, 3)\n",
    "describe(x)"
   ]
  },
  {
   "cell_type": "code",
   "execution_count": 24,
   "id": "78fb7b08",
   "metadata": {},
   "outputs": [
    {
     "name": "stdout",
     "output_type": "stream",
     "text": [
      "타입 : torch.FloatTensor\n",
      "크기: torch.Size([2, 3])\n",
      "값: \n",
      "tensor([[-1.4165, -3.1012, -0.0955],\n",
      "        [ 0.9302, -2.2826,  0.6963]])\n",
      "타입 : torch.FloatTensor\n",
      "크기: torch.Size([2, 3])\n",
      "값: \n",
      "tensor([[-1.4165, -3.1012, -0.0955],\n",
      "        [ 0.9302, -2.2826,  0.6963]])\n"
     ]
    }
   ],
   "source": [
    "describe(torch.add(x, x))\n",
    "describe(x + x)"
   ]
  },
  {
   "cell_type": "code",
   "execution_count": 25,
   "id": "61903faa",
   "metadata": {},
   "outputs": [
    {
     "name": "stdout",
     "output_type": "stream",
     "text": [
      "타입 : torch.FloatTensor\n",
      "크기: torch.Size([2, 3])\n",
      "값: \n",
      "tensor([[2.2917, 1.4494, 2.9522],\n",
      "        [3.4651, 1.8587, 3.3482]])\n",
      "타입 : torch.FloatTensor\n",
      "크기: torch.Size([2, 3])\n",
      "값: \n",
      "tensor([[2.2917, 1.4494, 2.9522],\n",
      "        [3.4651, 1.8587, 3.3482]])\n"
     ]
    }
   ],
   "source": [
    "describe(torch.add(x, 3))\n",
    "describe(x + 3)"
   ]
  },
  {
   "cell_type": "markdown",
   "id": "c16fabe6",
   "metadata": {},
   "source": [
    "# "
   ]
  },
  {
   "cell_type": "markdown",
   "id": "52ea83de",
   "metadata": {},
   "source": [
    "### *Tensor 차원 변경*"
   ]
  },
  {
   "cell_type": "code",
   "execution_count": 27,
   "id": "1bec35f8",
   "metadata": {},
   "outputs": [
    {
     "name": "stdout",
     "output_type": "stream",
     "text": [
      "타입 : torch.LongTensor\n",
      "크기: torch.Size([6])\n",
      "값: \n",
      "tensor([0, 1, 2, 3, 4, 5])\n"
     ]
    }
   ],
   "source": [
    "x = torch.arange(6)\n",
    "describe(x)"
   ]
  },
  {
   "cell_type": "code",
   "execution_count": 29,
   "id": "bfc094e1",
   "metadata": {},
   "outputs": [
    {
     "name": "stdout",
     "output_type": "stream",
     "text": [
      "타입 : torch.LongTensor\n",
      "크기: torch.Size([2, 3])\n",
      "값: \n",
      "tensor([[0, 1, 2],\n",
      "        [3, 4, 5]])\n"
     ]
    }
   ],
   "source": [
    "x = x.view(2, 3)\n",
    "describe(x)"
   ]
  },
  {
   "cell_type": "code",
   "execution_count": 34,
   "id": "73585ee5",
   "metadata": {},
   "outputs": [
    {
     "name": "stdout",
     "output_type": "stream",
     "text": [
      "타입 : torch.LongTensor\n",
      "크기: torch.Size([3])\n",
      "값: \n",
      "tensor([3, 5, 7])\n"
     ]
    }
   ],
   "source": [
    "describe(torch.sum(x, dim=0))"
   ]
  },
  {
   "cell_type": "code",
   "execution_count": 31,
   "id": "04f47998",
   "metadata": {},
   "outputs": [
    {
     "name": "stdout",
     "output_type": "stream",
     "text": [
      "타입 : torch.LongTensor\n",
      "크기: torch.Size([2])\n",
      "값: \n",
      "tensor([ 3, 12])\n"
     ]
    }
   ],
   "source": [
    "describe(torch.sum(x, dim=1))"
   ]
  },
  {
   "cell_type": "code",
   "execution_count": 32,
   "id": "87a6267a",
   "metadata": {},
   "outputs": [
    {
     "name": "stdout",
     "output_type": "stream",
     "text": [
      "타입 : torch.LongTensor\n",
      "크기: torch.Size([3, 2])\n",
      "값: \n",
      "tensor([[0, 3],\n",
      "        [1, 4],\n",
      "        [2, 5]])\n"
     ]
    }
   ],
   "source": [
    "describe(torch.transpose(x, 0, 1))"
   ]
  },
  {
   "cell_type": "markdown",
   "id": "54e82f07",
   "metadata": {},
   "source": [
    "# "
   ]
  },
  {
   "cell_type": "markdown",
   "id": "95524101",
   "metadata": {},
   "source": [
    "### *index, slicing, match*"
   ]
  },
  {
   "cell_type": "code",
   "execution_count": 39,
   "id": "c6952ab9",
   "metadata": {},
   "outputs": [
    {
     "name": "stdout",
     "output_type": "stream",
     "text": [
      "타입 : torch.LongTensor\n",
      "크기: torch.Size([2, 3])\n",
      "값: \n",
      "tensor([[0, 1, 2],\n",
      "        [3, 4, 5]])\n"
     ]
    }
   ],
   "source": [
    "x = torch.arange(6).view(2, 3)\n",
    "describe(x)"
   ]
  },
  {
   "cell_type": "code",
   "execution_count": 45,
   "id": "fd0a937c",
   "metadata": {},
   "outputs": [
    {
     "name": "stdout",
     "output_type": "stream",
     "text": [
      "타입 : torch.LongTensor\n",
      "크기: torch.Size([1, 2])\n",
      "값: \n",
      "tensor([[0, 1]])\n"
     ]
    }
   ],
   "source": [
    "describe(x[:1, :2])"
   ]
  },
  {
   "cell_type": "code",
   "execution_count": 48,
   "id": "b7007c4f",
   "metadata": {},
   "outputs": [
    {
     "name": "stdout",
     "output_type": "stream",
     "text": [
      "타입 : torch.LongTensor\n",
      "크기: torch.Size([])\n",
      "값: \n",
      "1\n"
     ]
    }
   ],
   "source": [
    "describe(x[0, 1])"
   ]
  },
  {
   "cell_type": "markdown",
   "id": "3d1fe331",
   "metadata": {},
   "source": [
    "##### *복잡한 인덱싱, 연속적이지 않은 텐서 인덱스 참조*\n",
    "##### *index_select() 함수가 반환하는 텐서는 dim 매개변수에 지정한 차원의 크기가 index 매개변수에 지정한 텐서 길이와 같음*"
   ]
  },
  {
   "cell_type": "code",
   "execution_count": 6,
   "id": "9aa6990c",
   "metadata": {},
   "outputs": [
    {
     "name": "stdout",
     "output_type": "stream",
     "text": [
      "타입 : torch.LongTensor\n",
      "크기: torch.Size([2, 3])\n",
      "값: \n",
      "tensor([[0, 1, 2],\n",
      "        [3, 4, 5]])\n"
     ]
    }
   ],
   "source": [
    "x = torch.arange(6).view(2, 3)\n",
    "describe(x)"
   ]
  },
  {
   "cell_type": "code",
   "execution_count": 7,
   "id": "cfafbd71",
   "metadata": {},
   "outputs": [
    {
     "name": "stdout",
     "output_type": "stream",
     "text": [
      "indices : tensor([0, 2])\n",
      "타입 : torch.LongTensor\n",
      "크기: torch.Size([2, 2])\n",
      "값: \n",
      "tensor([[0, 2],\n",
      "        [3, 5]])\n"
     ]
    }
   ],
   "source": [
    "indices = torch.LongTensor([0, 2])\n",
    "print(f\"indices : {indices}\")\n",
    "describe(torch.index_select(x, dim=1, index=indices))"
   ]
  },
  {
   "cell_type": "code",
   "execution_count": 9,
   "id": "5d9628cd",
   "metadata": {},
   "outputs": [
    {
     "name": "stdout",
     "output_type": "stream",
     "text": [
      "타입 : torch.LongTensor\n",
      "크기: torch.Size([2, 3])\n",
      "값: \n",
      "tensor([[0, 1, 2],\n",
      "        [0, 1, 2]])\n"
     ]
    }
   ],
   "source": [
    "indices = torch.LongTensor([0, 0])\n",
    "describe(torch.index_select(x, dim=0, index=indices))"
   ]
  },
  {
   "cell_type": "code",
   "execution_count": 11,
   "id": "f6eae102",
   "metadata": {},
   "outputs": [
    {
     "name": "stdout",
     "output_type": "stream",
     "text": [
      "row_indices : tensor([0, 1])\n",
      "col_indices : tensor([0, 1])\n",
      "타입 : torch.LongTensor\n",
      "크기: torch.Size([2])\n",
      "값: \n",
      "tensor([0, 4])\n"
     ]
    }
   ],
   "source": [
    "row_indices = torch.arange(2).long()\n",
    "print(f\"row_indices : {row_indices}\")\n",
    "\n",
    "col_indices = torch.LongTensor([0, 1])\n",
    "print(f\"col_indices : {col_indices}\")\n",
    "\n",
    "describe(x[row_indices, col_indices])"
   ]
  },
  {
   "cell_type": "markdown",
   "id": "67e003d5",
   "metadata": {},
   "source": [
    "##### *텐서 연결*"
   ]
  },
  {
   "cell_type": "code",
   "execution_count": 12,
   "id": "1e058490",
   "metadata": {},
   "outputs": [
    {
     "name": "stdout",
     "output_type": "stream",
     "text": [
      "타입 : torch.LongTensor\n",
      "크기: torch.Size([2, 3])\n",
      "값: \n",
      "tensor([[0, 1, 2],\n",
      "        [3, 4, 5]])\n"
     ]
    }
   ],
   "source": [
    "x = torch.arange(6).view(2, 3)\n",
    "describe(x)"
   ]
  },
  {
   "cell_type": "code",
   "execution_count": 13,
   "id": "27179cfe",
   "metadata": {},
   "outputs": [
    {
     "name": "stdout",
     "output_type": "stream",
     "text": [
      "타입 : torch.LongTensor\n",
      "크기: torch.Size([4, 3])\n",
      "값: \n",
      "tensor([[0, 1, 2],\n",
      "        [3, 4, 5],\n",
      "        [0, 1, 2],\n",
      "        [3, 4, 5]])\n"
     ]
    }
   ],
   "source": [
    "describe(torch.cat([x, x], dim=0))"
   ]
  },
  {
   "cell_type": "code",
   "execution_count": 14,
   "id": "eeb6efb4",
   "metadata": {},
   "outputs": [
    {
     "name": "stdout",
     "output_type": "stream",
     "text": [
      "타입 : torch.LongTensor\n",
      "크기: torch.Size([2, 6])\n",
      "값: \n",
      "tensor([[0, 1, 2, 0, 1, 2],\n",
      "        [3, 4, 5, 3, 4, 5]])\n"
     ]
    }
   ],
   "source": [
    "describe(torch.cat([x, x], dim=1))"
   ]
  },
  {
   "cell_type": "code",
   "execution_count": 15,
   "id": "1fd3c6bb",
   "metadata": {},
   "outputs": [
    {
     "name": "stdout",
     "output_type": "stream",
     "text": [
      "타입 : torch.LongTensor\n",
      "크기: torch.Size([2, 2, 3])\n",
      "값: \n",
      "tensor([[[0, 1, 2],\n",
      "         [3, 4, 5]],\n",
      "\n",
      "        [[0, 1, 2],\n",
      "         [3, 4, 5]]])\n"
     ]
    }
   ],
   "source": [
    "describe(torch.stack([x, x]))"
   ]
  },
  {
   "cell_type": "markdown",
   "id": "c6bfb4a9",
   "metadata": {},
   "source": [
    "##### *텐서 선형대수 계산*"
   ]
  },
  {
   "cell_type": "code",
   "execution_count": 23,
   "id": "5af40460",
   "metadata": {},
   "outputs": [
    {
     "name": "stdout",
     "output_type": "stream",
     "text": [
      "타입 : torch.FloatTensor\n",
      "크기: torch.Size([2, 3])\n",
      "값: \n",
      "tensor([[0., 1., 2.],\n",
      "        [3., 4., 5.]])\n",
      "타입 : torch.FloatTensor\n",
      "크기: torch.Size([3, 2])\n",
      "값: \n",
      "tensor([[1., 2.],\n",
      "        [1., 2.],\n",
      "        [1., 2.]])\n",
      "타입 : torch.FloatTensor\n",
      "크기: torch.Size([2, 2])\n",
      "값: \n",
      "tensor([[ 3.,  6.],\n",
      "        [12., 24.]])\n"
     ]
    }
   ],
   "source": [
    "# 행렬 곱셉 mm\n",
    "x1 = torch.arange(6).view(2, 3).float()\n",
    "describe(x1)\n",
    "\n",
    "x2 = torch.ones(3, 2)\n",
    "x2[:, 1] += 1\n",
    "describe(x2)\n",
    "\n",
    "describe(torch.mm(x1, x2))"
   ]
  },
  {
   "cell_type": "code",
   "execution_count": null,
   "id": "1e8e13ba",
   "metadata": {},
   "outputs": [],
   "source": []
  }
 ],
 "metadata": {
  "kernelspec": {
   "display_name": "Python 3",
   "language": "python",
   "name": "python3"
  },
  "language_info": {
   "codemirror_mode": {
    "name": "ipython",
    "version": 3
   },
   "file_extension": ".py",
   "mimetype": "text/x-python",
   "name": "python",
   "nbconvert_exporter": "python",
   "pygments_lexer": "ipython3",
   "version": "3.8.10"
  }
 },
 "nbformat": 4,
 "nbformat_minor": 5
}
