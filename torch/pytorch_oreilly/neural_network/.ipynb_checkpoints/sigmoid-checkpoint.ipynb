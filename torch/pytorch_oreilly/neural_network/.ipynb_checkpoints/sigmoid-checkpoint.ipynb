{
 "cells": [
  {
   "cell_type": "code",
   "execution_count": 1,
   "id": "a95631c3",
   "metadata": {},
   "outputs": [],
   "source": [
    "import torch\n",
    "import matplotlib.pyplot as plt"
   ]
  },
  {
   "cell_type": "code",
   "execution_count": 2,
   "id": "22b39e93",
   "metadata": {},
   "outputs": [
    {
     "name": "stdout",
     "output_type": "stream",
     "text": [
      "tensor([-5.0000, -4.9000, -4.8000, -4.7000, -4.6000, -4.5000, -4.4000, -4.3000,\n",
      "        -4.2000, -4.1000, -4.0000, -3.9000, -3.8000, -3.7000, -3.6000, -3.5000,\n",
      "        -3.4000, -3.3000, -3.2000, -3.1000, -3.0000, -2.9000, -2.8000, -2.7000,\n",
      "        -2.6000, -2.5000, -2.4000, -2.3000, -2.2000, -2.1000, -2.0000, -1.9000,\n",
      "        -1.8000, -1.7000, -1.6000, -1.5000, -1.4000, -1.3000, -1.2000, -1.1000,\n",
      "        -1.0000, -0.9000, -0.8000, -0.7000, -0.6000, -0.5000, -0.4000, -0.3000,\n",
      "        -0.2000, -0.1000,  0.0000,  0.1000,  0.2000,  0.3000,  0.4000,  0.5000,\n",
      "         0.6000,  0.7000,  0.8000,  0.9000,  1.0000,  1.1000,  1.2000,  1.3000,\n",
      "         1.4000,  1.5000,  1.6000,  1.7000,  1.8000,  1.9000,  2.0000,  2.1000,\n",
      "         2.2000,  2.3000,  2.4000,  2.5000,  2.6000,  2.7000,  2.8000,  2.9000,\n",
      "         3.0000,  3.1000,  3.2000,  3.3000,  3.4000,  3.5000,  3.6000,  3.7000,\n",
      "         3.8000,  3.9000,  4.0000,  4.1000,  4.2000,  4.3000,  4.4000,  4.5000,\n",
      "         4.6000,  4.7000,  4.8000,  4.9000,  5.0000])\n"
     ]
    },
    {
     "name": "stderr",
     "output_type": "stream",
     "text": [
      "/tmp/ipykernel_1738814/249036172.py:1: UserWarning: torch.range is deprecated and will be removed in a future release because its behavior is inconsistent with Python's range builtin. Instead, use torch.arange, which produces values in [start, end).\n",
      "  x = torch.range(-5., 5., 0.1)\n"
     ]
    }
   ],
   "source": [
    "x = torch.range(-5., 5., 0.1)\n",
    "print(x)"
   ]
  },
  {
   "cell_type": "code",
   "execution_count": 4,
   "id": "dcbc2eac",
   "metadata": {},
   "outputs": [
    {
     "name": "stdout",
     "output_type": "stream",
     "text": [
      "tensor([0.0067, 0.0074, 0.0082, 0.0090, 0.0100, 0.0110, 0.0121, 0.0134, 0.0148,\n",
      "        0.0163, 0.0180, 0.0198, 0.0219, 0.0241, 0.0266, 0.0293, 0.0323, 0.0356,\n",
      "        0.0392, 0.0431, 0.0474, 0.0522, 0.0573, 0.0630, 0.0691, 0.0759, 0.0832,\n",
      "        0.0911, 0.0998, 0.1091, 0.1192, 0.1301, 0.1419, 0.1545, 0.1680, 0.1824,\n",
      "        0.1978, 0.2142, 0.2315, 0.2497, 0.2689, 0.2891, 0.3100, 0.3318, 0.3543,\n",
      "        0.3775, 0.4013, 0.4256, 0.4502, 0.4750, 0.5000, 0.5250, 0.5498, 0.5744,\n",
      "        0.5987, 0.6225, 0.6457, 0.6682, 0.6900, 0.7109, 0.7311, 0.7503, 0.7685,\n",
      "        0.7858, 0.8022, 0.8176, 0.8320, 0.8455, 0.8581, 0.8699, 0.8808, 0.8909,\n",
      "        0.9002, 0.9089, 0.9168, 0.9241, 0.9309, 0.9370, 0.9427, 0.9478, 0.9526,\n",
      "        0.9569, 0.9608, 0.9644, 0.9677, 0.9707, 0.9734, 0.9759, 0.9781, 0.9802,\n",
      "        0.9820, 0.9837, 0.9852, 0.9866, 0.9879, 0.9890, 0.9900, 0.9910, 0.9918,\n",
      "        0.9926, 0.9933])\n"
     ]
    }
   ],
   "source": [
    "y = torch.sigmoid(x)\n",
    "print(y)"
   ]
  },
  {
   "cell_type": "code",
   "execution_count": 5,
   "id": "5ee6601b",
   "metadata": {},
   "outputs": [
    {
     "data": {
      "image/png": "[encoded data removed]",
      "text/plain": [
       "<Figure size 432x288 with 1 Axes>"
      ]
     },
     "metadata": {
      "needs_background": "light"
     },
     "output_type": "display_data"
    }
   ],
   "source": [
    "plt.plot(x.numpy(), y.numpy())\n",
    "plt.show()"
   ]
  }
 ],
 "metadata": {
  "kernelspec": {
   "display_name": "Python 3",
   "language": "python",
   "name": "python3"
  },
  "language_info": {
   "codemirror_mode": {
    "name": "ipython",
    "version": 3
   },
   "file_extension": ".py",
   "mimetype": "text/x-python",
   "name": "python",
   "nbconvert_exporter": "python",
   "pygments_lexer": "ipython3",
   "version": "3.8.10"
  }
 },
 "nbformat": 4,
 "nbformat_minor": 5
}
