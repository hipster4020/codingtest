{
 "cells": [
  {
   "cell_type": "markdown",
   "id": "acd36014",
   "metadata": {},
   "source": [
    "# *Pytorch로 단층 퍼셉트론 구현*"
   ]
  },
  {
   "cell_type": "markdown",
   "id": "f010c144",
   "metadata": {},
   "source": [
    "# "
   ]
  },
  {
   "cell_type": "markdown",
   "id": "3bb79f82",
   "metadata": {},
   "source": [
    "### *데이터 만들기*"
   ]
  },
  {
   "cell_type": "code",
   "execution_count": 14,
   "id": "090a96a4",
   "metadata": {},
   "outputs": [],
   "source": [
    "import torch\n",
    "import torch.nn as nn"
   ]
  },
  {
   "cell_type": "code",
   "execution_count": 2,
   "id": "a40f2fdf",
   "metadata": {},
   "outputs": [],
   "source": [
    "device = \"cuda\" if torch.cuda.is_available() else \"cpu\"\n",
    "torch.manual_seed(777)\n",
    "if device == \"cuda\":\n",
    "    torch.cuda.manual_seed_all(777)"
   ]
  },
  {
   "cell_type": "code",
   "execution_count": 3,
   "id": "4b735d3e",
   "metadata": {},
   "outputs": [
    {
     "data": {
      "text/plain": [
       "'cuda'"
      ]
     },
     "execution_count": 3,
     "metadata": {},
     "output_type": "execute_result"
    }
   ],
   "source": [
    "device"
   ]
  },
  {
   "cell_type": "code",
   "execution_count": 5,
   "id": "d069e7da",
   "metadata": {},
   "outputs": [],
   "source": [
    "X = torch.Tensor([[0, 0], [0, 1], [1, 0], [1, 1]]).to(device)\n",
    "Y = torch.Tensor([[0], [1], [1], [0]]).to(device)"
   ]
  },
  {
   "cell_type": "code",
   "execution_count": 6,
   "id": "e45cee32",
   "metadata": {},
   "outputs": [
    {
     "name": "stdout",
     "output_type": "stream",
     "text": [
      "tensor([[0., 0.],\n",
      "        [0., 1.],\n",
      "        [1., 0.],\n",
      "        [1., 1.]], device='cuda:0')\n",
      "tensor([[0.],\n",
      "        [1.],\n",
      "        [1.],\n",
      "        [0.]], device='cuda:0')\n"
     ]
    }
   ],
   "source": [
    "print(X)\n",
    "print(Y)"
   ]
  },
  {
   "cell_type": "markdown",
   "id": "11153ac5",
   "metadata": {},
   "source": [
    "# "
   ]
  },
  {
   "cell_type": "markdown",
   "id": "c0f234b1",
   "metadata": {},
   "source": [
    "### *1개의 뉴런을 가지는 시그모이드를 활용한 단층 퍼셉트론*"
   ]
  },
  {
   "cell_type": "code",
   "execution_count": 15,
   "id": "7933e795",
   "metadata": {},
   "outputs": [
    {
     "name": "stdout",
     "output_type": "stream",
     "text": [
      "linear : Linear(in_features=2, out_features=1, bias=True)\n",
      "sigmoid : Sigmoid()\n",
      "Sequential(\n",
      "  (0): Linear(in_features=2, out_features=1, bias=True)\n",
      "  (1): Sigmoid()\n",
      ")\n"
     ]
    }
   ],
   "source": [
    "linear = nn.Linear(2, 1, bias=True)\n",
    "print(f\"linear : {linear}\")\n",
    "\n",
    "sigmoid = nn.Sigmoid()\n",
    "print(f\"sigmoid : {sigmoid}\")\n",
    "\n",
    "model = nn.Sequential(linear, sigmoid).to(device)\n",
    "print(model)"
   ]
  },
  {
   "cell_type": "markdown",
   "id": "20d1c776",
   "metadata": {},
   "source": [
    "# "
   ]
  },
  {
   "cell_type": "markdown",
   "id": "d959597d",
   "metadata": {},
   "source": [
    "### *0, 1을 예측하는 이진 분류 문제, Binary Cross Entropy 사용*"
   ]
  },
  {
   "cell_type": "code",
   "execution_count": 20,
   "id": "c1b80d38",
   "metadata": {},
   "outputs": [
    {
     "name": "stdout",
     "output_type": "stream",
     "text": [
      "BCELoss()\n",
      "SGD (\n",
      "Parameter Group 0\n",
      "    dampening: 0\n",
      "    lr: 1\n",
      "    maximize: False\n",
      "    momentum: 0\n",
      "    nesterov: False\n",
      "    weight_decay: 0\n",
      ")\n"
     ]
    }
   ],
   "source": [
    "criterion = nn.BCELoss().to(device) # 비용 함수\n",
    "print(criterion)\n",
    "\n",
    "optimizer = torch.optim.SGD(model.parameters(), lr=1) # 경사 하강법 optimizer\n",
    "print(optimizer)"
   ]
  },
  {
   "cell_type": "markdown",
   "id": "26316214",
   "metadata": {},
   "source": [
    "### *0 ~ 10,000 에포크 수행*"
   ]
  },
  {
   "cell_type": "code",
   "execution_count": 30,
   "id": "9685ddf2",
   "metadata": {},
   "outputs": [
    {
     "name": "stdout",
     "output_type": "stream",
     "text": [
      "0 step → cost: 0.6931472420692444\n",
      "100 step → cost: 0.6931472420692444\n",
      "200 step → cost: 0.6931472420692444\n",
      "300 step → cost: 0.6931472420692444\n",
      "400 step → cost: 0.6931472420692444\n",
      "500 step → cost: 0.6931472420692444\n",
      "600 step → cost: 0.6931472420692444\n",
      "700 step → cost: 0.6931472420692444\n",
      "800 step → cost: 0.6931472420692444\n",
      "900 step → cost: 0.6931472420692444\n",
      "1000 step → cost: 0.6931472420692444\n",
      "1100 step → cost: 0.6931472420692444\n",
      "1200 step → cost: 0.6931472420692444\n",
      "1300 step → cost: 0.6931472420692444\n",
      "1400 step → cost: 0.6931472420692444\n",
      "1500 step → cost: 0.6931472420692444\n",
      "1600 step → cost: 0.6931472420692444\n",
      "1700 step → cost: 0.6931472420692444\n",
      "1800 step → cost: 0.6931472420692444\n",
      "1900 step → cost: 0.6931472420692444\n",
      "2000 step → cost: 0.6931472420692444\n",
      "2100 step → cost: 0.6931472420692444\n",
      "2200 step → cost: 0.6931472420692444\n",
      "2300 step → cost: 0.6931472420692444\n",
      "2400 step → cost: 0.6931472420692444\n",
      "2500 step → cost: 0.6931472420692444\n",
      "2600 step → cost: 0.6931472420692444\n",
      "2700 step → cost: 0.6931472420692444\n",
      "2800 step → cost: 0.6931472420692444\n",
      "2900 step → cost: 0.6931472420692444\n",
      "3000 step → cost: 0.6931472420692444\n",
      "3100 step → cost: 0.6931472420692444\n",
      "3200 step → cost: 0.6931472420692444\n",
      "3300 step → cost: 0.6931472420692444\n",
      "3400 step → cost: 0.6931472420692444\n",
      "3500 step → cost: 0.6931472420692444\n",
      "3600 step → cost: 0.6931472420692444\n",
      "3700 step → cost: 0.6931472420692444\n",
      "3800 step → cost: 0.6931472420692444\n",
      "3900 step → cost: 0.6931472420692444\n",
      "4000 step → cost: 0.6931472420692444\n",
      "4100 step → cost: 0.6931472420692444\n",
      "4200 step → cost: 0.6931472420692444\n",
      "4300 step → cost: 0.6931472420692444\n",
      "4400 step → cost: 0.6931472420692444\n",
      "4500 step → cost: 0.6931472420692444\n",
      "4600 step → cost: 0.6931472420692444\n",
      "4700 step → cost: 0.6931472420692444\n",
      "4800 step → cost: 0.6931472420692444\n",
      "4900 step → cost: 0.6931472420692444\n",
      "5000 step → cost: 0.6931472420692444\n",
      "5100 step → cost: 0.6931472420692444\n",
      "5200 step → cost: 0.6931472420692444\n",
      "5300 step → cost: 0.6931472420692444\n",
      "5400 step → cost: 0.6931472420692444\n",
      "5500 step → cost: 0.6931472420692444\n",
      "5600 step → cost: 0.6931472420692444\n",
      "5700 step → cost: 0.6931472420692444\n",
      "5800 step → cost: 0.6931472420692444\n",
      "5900 step → cost: 0.6931472420692444\n",
      "6000 step → cost: 0.6931472420692444\n",
      "6100 step → cost: 0.6931472420692444\n",
      "6200 step → cost: 0.6931472420692444\n",
      "6300 step → cost: 0.6931472420692444\n",
      "6400 step → cost: 0.6931472420692444\n",
      "6500 step → cost: 0.6931472420692444\n",
      "6600 step → cost: 0.6931472420692444\n",
      "6700 step → cost: 0.6931472420692444\n",
      "6800 step → cost: 0.6931472420692444\n",
      "6900 step → cost: 0.6931472420692444\n",
      "7000 step → cost: 0.6931472420692444\n",
      "7100 step → cost: 0.6931472420692444\n",
      "7200 step → cost: 0.6931472420692444\n",
      "7300 step → cost: 0.6931472420692444\n",
      "7400 step → cost: 0.6931472420692444\n",
      "7500 step → cost: 0.6931472420692444\n",
      "7600 step → cost: 0.6931472420692444\n",
      "7700 step → cost: 0.6931472420692444\n",
      "7800 step → cost: 0.6931472420692444\n",
      "7900 step → cost: 0.6931472420692444\n",
      "8000 step → cost: 0.6931472420692444\n",
      "8100 step → cost: 0.6931472420692444\n",
      "8200 step → cost: 0.6931472420692444\n",
      "8300 step → cost: 0.6931472420692444\n",
      "8400 step → cost: 0.6931472420692444\n",
      "8500 step → cost: 0.6931472420692444\n",
      "8600 step → cost: 0.6931472420692444\n",
      "8700 step → cost: 0.6931472420692444\n",
      "8800 step → cost: 0.6931472420692444\n",
      "8900 step → cost: 0.6931472420692444\n",
      "9000 step → cost: 0.6931472420692444\n",
      "9100 step → cost: 0.6931472420692444\n",
      "9200 step → cost: 0.6931472420692444\n",
      "9300 step → cost: 0.6931472420692444\n",
      "9400 step → cost: 0.6931472420692444\n",
      "9500 step → cost: 0.6931472420692444\n",
      "9600 step → cost: 0.6931472420692444\n",
      "9700 step → cost: 0.6931472420692444\n",
      "9800 step → cost: 0.6931472420692444\n",
      "9900 step → cost: 0.6931472420692444\n",
      "10000 step → cost: 0.6931472420692444\n"
     ]
    }
   ],
   "source": [
    "for step in range(10001):    \n",
    "    optimizer.zero_grad() # 미분을 통해 얻은 기울기를 0으로 초기화합니다. \n",
    "    hypothesis = model(X)\n",
    "    \n",
    "    cost = criterion(hypothesis, Y) # 비용 함수\n",
    "    cost.backward() # 비용 함수를 미분하여 gradient 계산, 가중치 W와 편향 b에 대한 기울기가 계산\n",
    "    optimizer.step() # W, b를 optimizer에 업데이트\n",
    "    \n",
    "    if step % 100 == 0: # 100번째 epoch마다 비용 출력\n",
    "        print(f\"{step} step → cost: {cost.item()}\")"
   ]
  },
  {
   "cell_type": "markdown",
   "id": "8c236ba6",
   "metadata": {},
   "source": [
    "##### *loss가 0.693..로 수렴되는데 단층 퍼셉트론는 XOR 문제를 해결할 수 없다.*"
   ]
  },
  {
   "cell_type": "markdown",
   "id": "659e24da",
   "metadata": {},
   "source": [
    "# "
   ]
  },
  {
   "cell_type": "markdown",
   "id": "e5863372",
   "metadata": {},
   "source": [
    "### *학습된 단층 퍼셉트론*"
   ]
  },
  {
   "cell_type": "code",
   "execution_count": 34,
   "id": "205939a1",
   "metadata": {},
   "outputs": [
    {
     "name": "stdout",
     "output_type": "stream",
     "text": [
      "모델의 출력값(Hypothesis):  tensor([[0.4998],\n",
      "        [0.5000],\n",
      "        [0.5000],\n",
      "        [0.5002]], device='cuda:0')\n",
      "모델의 출력값(Hypothesis):  [[0.49976903]\n",
      " [0.4999898 ]\n",
      " [0.5000102 ]\n",
      " [0.50023097]]\n",
      "모델의 예측값(Predicted):  [[0.]\n",
      " [0.]\n",
      " [1.]\n",
      " [1.]]\n",
      "실제값(Y):  [[0.]\n",
      " [1.]\n",
      " [1.]\n",
      " [0.]]\n",
      "정확도(Accuracy):  0.5\n"
     ]
    }
   ],
   "source": [
    "with torch.no_grad(): # gradient 계산 수행 x\n",
    "    hypothesis = model(X)\n",
    "    predicted = (hypothesis > 0.5).float()\n",
    "    accuracy = (predicted == Y).float().mean()\n",
    "    print('모델의 출력값(Hypothesis): ', hypothesis)\n",
    "    print('모델의 출력값(Hypothesis): ', hypothesis.detach().cpu().numpy())\n",
    "    print('모델의 예측값(Predicted): ', predicted.detach().cpu().numpy())\n",
    "    print('실제값(Y): ', Y.cpu().numpy())\n",
    "    print('정확도(Accuracy): ', accuracy.item())"
   ]
  },
  {
   "cell_type": "code",
   "execution_count": null,
   "id": "d7374cde",
   "metadata": {},
   "outputs": [],
   "source": []
  }
 ],
 "metadata": {
  "kernelspec": {
   "display_name": "Python 3",
   "language": "python",
   "name": "python3"
  },
  "language_info": {
   "codemirror_mode": {
    "name": "ipython",
    "version": 3
   },
   "file_extension": ".py",
   "mimetype": "text/x-python",
   "name": "python",
   "nbconvert_exporter": "python",
   "pygments_lexer": "ipython3",
   "version": "3.8.10"
  }
 },
 "nbformat": 4,
 "nbformat_minor": 5
}
