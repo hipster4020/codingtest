{
 "cells": [
  {
   "cell_type": "markdown",
   "id": "c4c57aa4",
   "metadata": {},
   "source": [
    "다대다 RNN은 대표적으로 품사 태깅, 개체명 인식 등에서 사용"
   ]
  },
  {
   "cell_type": "markdown",
   "id": "af4e8409",
   "metadata": {},
   "source": [
    "# "
   ]
  },
  {
   "cell_type": "markdown",
   "id": "94f60541",
   "metadata": {},
   "source": [
    "# *Char RNN*"
   ]
  },
  {
   "cell_type": "markdown",
   "id": "3aed02c3",
   "metadata": {},
   "source": [
    "RNN 입출력 단위가 단어 레벨(word-level)이 아니라 문자 레벨(character-level)로 하여 RNN을 구현한다면, 이를 <b>문자 단위 RNN</b>라고 함.<br>\n",
    "<u>RNN 구조 자체가 달라진 것은 아니고, 입,출력의 단위가 문자로 바뀜</u><br><br>\n",
    "<b>문자 단위 RNN을 다대다 구조</b>"
   ]
  },
  {
   "cell_type": "code",
   "execution_count": 1,
   "id": "2a762d1c",
   "metadata": {},
   "outputs": [],
   "source": [
    "import torch\n",
    "import torch.nn as nn\n",
    "import torch.optim as optim\n",
    "import torch.nn.functional as F\n",
    "import numpy as np"
   ]
  },
  {
   "cell_type": "markdown",
   "id": "e871106c",
   "metadata": {},
   "source": [
    "### *processing*"
   ]
  },
  {
   "cell_type": "markdown",
   "id": "410d8c5b",
   "metadata": {},
   "source": [
    "문자 시퀀스 apple을 입력받아 pple!를 출력하는 RNN 구현"
   ]
  },
  {
   "cell_type": "code",
   "execution_count": 2,
   "id": "6d90e2ef",
   "metadata": {},
   "outputs": [],
   "source": [
    "input_str = 'apple'\n",
    "label_str = 'pple!'"
   ]
  },
  {
   "cell_type": "code",
   "execution_count": 3,
   "id": "f37913fc",
   "metadata": {},
   "outputs": [],
   "source": [
    "char_vocab = sorted(list(set(input_str + label_str)))"
   ]
  },
  {
   "cell_type": "code",
   "execution_count": 4,
   "id": "e477c452",
   "metadata": {},
   "outputs": [
    {
     "name": "stdout",
     "output_type": "stream",
     "text": [
      "문자 집합의 크기 : 5\n"
     ]
    }
   ],
   "source": [
    "vocab_size = len(char_vocab)\n",
    "print ('문자 집합의 크기 : {}'.format(vocab_size))"
   ]
  },
  {
   "cell_type": "markdown",
   "id": "53e396ea",
   "metadata": {},
   "source": [
    "# "
   ]
  },
  {
   "cell_type": "markdown",
   "id": "4da7a3e4",
   "metadata": {},
   "source": [
    "# *Encoding*"
   ]
  },
  {
   "cell_type": "code",
   "execution_count": 5,
   "id": "4024da5d",
   "metadata": {},
   "outputs": [
    {
     "name": "stdout",
     "output_type": "stream",
     "text": [
      "char_to_index : {'!': 0, 'a': 1, 'e': 2, 'l': 3, 'p': 4}\n",
      "index_to_char : {0: '!', 1: 'a', 2: 'e', 3: 'l', 4: 'p'}\n"
     ]
    }
   ],
   "source": [
    "char_to_index = {v: k for k, v in enumerate(char_vocab)}\n",
    "index_to_char = {k: v for k, v in enumerate(char_vocab)}\n",
    "print(f\"char_to_index : {char_to_index}\")\n",
    "print(f\"index_to_char : {index_to_char}\")"
   ]
  },
  {
   "cell_type": "code",
   "execution_count": 6,
   "id": "be94dcb2",
   "metadata": {},
   "outputs": [
    {
     "name": "stdout",
     "output_type": "stream",
     "text": [
      "[1, 4, 4, 3, 2]\n",
      "[4, 4, 3, 2, 0]\n"
     ]
    }
   ],
   "source": [
    "x_data = [char_to_index[i] for i in input_str]\n",
    "y_data = [char_to_index[i] for i in label_str]\n",
    "print(x_data)\n",
    "print(y_data)"
   ]
  },
  {
   "cell_type": "markdown",
   "id": "64a8c4be",
   "metadata": {},
   "source": [
    "### *batch 차원 추가*"
   ]
  },
  {
   "cell_type": "code",
   "execution_count": 7,
   "id": "f3d1f77f",
   "metadata": {},
   "outputs": [],
   "source": [
    "x_data = torch.LongTensor(x_data)\n",
    "x_data = F.one_hot(x_data, num_classes=vocab_size) # one-hot encoding (LongTensor 필요)\n",
    "X = x_data.unsqueeze(0).type(torch.FloatTensor)\n",
    "Y = torch.LongTensor(y_data).unsqueeze(0)"
   ]
  },
  {
   "cell_type": "code",
   "execution_count": 8,
   "id": "9ed11354",
   "metadata": {},
   "outputs": [
    {
     "name": "stdout",
     "output_type": "stream",
     "text": [
      "tensor([[[0., 1., 0., 0., 0.],\n",
      "         [0., 0., 0., 0., 1.],\n",
      "         [0., 0., 0., 0., 1.],\n",
      "         [0., 0., 0., 1., 0.],\n",
      "         [0., 0., 1., 0., 0.]]])\n",
      "tensor([[4, 4, 3, 2, 0]])\n"
     ]
    }
   ],
   "source": [
    "print(X)\n",
    "print(Y)"
   ]
  },
  {
   "cell_type": "code",
   "execution_count": 9,
   "id": "34ce70d8",
   "metadata": {},
   "outputs": [
    {
     "name": "stdout",
     "output_type": "stream",
     "text": [
      "훈련 데이터 크기 : torch.Size([1, 5, 5])\n",
      "레이블 크기 : torch.Size([1, 5])\n"
     ]
    }
   ],
   "source": [
    "print(f\"훈련 데이터 크기 : {X.shape}\")\n",
    "print(f\"레이블 크기 : {Y.shape}\")"
   ]
  },
  {
   "cell_type": "markdown",
   "id": "2ad5809a",
   "metadata": {},
   "source": [
    "# "
   ]
  },
  {
   "cell_type": "markdown",
   "id": "060c56f7",
   "metadata": {},
   "source": [
    "# *Train*"
   ]
  },
  {
   "cell_type": "code",
   "execution_count": 10,
   "id": "15ced327",
   "metadata": {},
   "outputs": [],
   "source": [
    "input_size = vocab_size\n",
    "hidden_size = 5\n",
    "output_size = 5\n",
    "learning_rate = 0.1"
   ]
  },
  {
   "cell_type": "code",
   "execution_count": 11,
   "id": "6d2ecdd4",
   "metadata": {},
   "outputs": [],
   "source": [
    "class Net(torch.nn.Module):\n",
    "    def __init__(self, input_size, hidden_size, output_size):\n",
    "        super(Net, self).__init__()\n",
    "        self.rnn = torch.nn.RNN(input_size, hidden_size, batch_first=True) # RNN 셀 구현\n",
    "        self.fc = torch.nn.Linear(hidden_size, output_size, bias=True) # 출력층 구현\n",
    "\n",
    "    def forward(self, x): # 구현한 RNN 셀과 출력층을 연결\n",
    "        x, _status = self.rnn(x)\n",
    "        x = self.fc(x)\n",
    "        return x"
   ]
  },
  {
   "cell_type": "code",
   "execution_count": 12,
   "id": "b07b14a8",
   "metadata": {},
   "outputs": [
    {
     "name": "stdout",
     "output_type": "stream",
     "text": [
      "Net(\n",
      "  (rnn): RNN(5, 5, batch_first=True)\n",
      "  (fc): Linear(in_features=5, out_features=5, bias=True)\n",
      ")\n"
     ]
    }
   ],
   "source": [
    "net = Net(input_size, hidden_size, output_size)\n",
    "print(net)"
   ]
  },
  {
   "cell_type": "code",
   "execution_count": 16,
   "id": "d322231e",
   "metadata": {},
   "outputs": [
    {
     "name": "stdout",
     "output_type": "stream",
     "text": [
      "tensor([[[-0.2175, -0.2541,  0.5675, -0.0843,  0.1576],\n",
      "         [-0.0720, -0.2235,  0.3873, -0.4740,  0.5187],\n",
      "         [-0.1215, -0.1076,  0.4717, -0.3196,  0.3633],\n",
      "         [-0.3617, -0.2319,  0.7496, -0.3049,  0.4235],\n",
      "         [ 0.0344,  0.1267,  0.7013, -0.5676,  0.5601]]],\n",
      "       grad_fn=<AddBackward0>)\n",
      "torch.Size([1, 5, 5])\n"
     ]
    }
   ],
   "source": [
    "outputs = net(X)\n",
    "print(outputs)\n",
    "print(outputs.shape)"
   ]
  },
  {
   "cell_type": "code",
   "execution_count": 17,
   "id": "f527a341",
   "metadata": {},
   "outputs": [
    {
     "name": "stdout",
     "output_type": "stream",
     "text": [
      "tensor([[-0.2175, -0.2541,  0.5675, -0.0843,  0.1576],\n",
      "        [-0.0720, -0.2235,  0.3873, -0.4740,  0.5187],\n",
      "        [-0.1215, -0.1076,  0.4717, -0.3196,  0.3633],\n",
      "        [-0.3617, -0.2319,  0.7496, -0.3049,  0.4235],\n",
      "        [ 0.0344,  0.1267,  0.7013, -0.5676,  0.5601]], grad_fn=<ViewBackward>)\n",
      "torch.Size([5, 5])\n"
     ]
    }
   ],
   "source": [
    "print(outputs.view(-1, input_size)) # 2차원 텐서로 변환\n",
    "print(outputs.view(-1, input_size).shape) # 2차원 텐서로 변환"
   ]
  },
  {
   "cell_type": "code",
   "execution_count": 18,
   "id": "fa544314",
   "metadata": {},
   "outputs": [],
   "source": [
    "criterion = torch.nn.CrossEntropyLoss()\n",
    "optimizer = optim.Adam(net.parameters(), learning_rate)"
   ]
  },
  {
   "cell_type": "code",
   "execution_count": 19,
   "id": "32ecb2c4",
   "metadata": {},
   "outputs": [
    {
     "name": "stdout",
     "output_type": "stream",
     "text": [
      "0 loss:  1.52280592918396 prediction:  [[2 4 2 2 2]] true Y:  [4, 4, 3, 2, 0] prediction str:  epeee\n",
      "1 loss:  1.2713689804077148 prediction:  [[4 4 4 4 4]] true Y:  [4, 4, 3, 2, 0] prediction str:  ppppp\n",
      "2 loss:  1.073270559310913 prediction:  [[4 4 3 4 0]] true Y:  [4, 4, 3, 2, 0] prediction str:  pplp!\n",
      "3 loss:  0.8618305325508118 prediction:  [[4 4 3 4 0]] true Y:  [4, 4, 3, 2, 0] prediction str:  pplp!\n",
      "4 loss:  0.6540454030036926 prediction:  [[4 4 3 2 0]] true Y:  [4, 4, 3, 2, 0] prediction str:  pple!\n",
      "5 loss:  0.47488659620285034 prediction:  [[4 4 3 2 0]] true Y:  [4, 4, 3, 2, 0] prediction str:  pple!\n",
      "6 loss:  0.34092622995376587 prediction:  [[4 4 3 2 0]] true Y:  [4, 4, 3, 2, 0] prediction str:  pple!\n",
      "7 loss:  0.2342413365840912 prediction:  [[4 4 3 2 0]] true Y:  [4, 4, 3, 2, 0] prediction str:  pple!\n",
      "8 loss:  0.15783968567848206 prediction:  [[4 4 3 2 0]] true Y:  [4, 4, 3, 2, 0] prediction str:  pple!\n",
      "9 loss:  0.10820503532886505 prediction:  [[4 4 3 2 0]] true Y:  [4, 4, 3, 2, 0] prediction str:  pple!\n",
      "10 loss:  0.07014058530330658 prediction:  [[4 4 3 2 0]] true Y:  [4, 4, 3, 2, 0] prediction str:  pple!\n",
      "11 loss:  0.04623717814683914 prediction:  [[4 4 3 2 0]] true Y:  [4, 4, 3, 2, 0] prediction str:  pple!\n",
      "12 loss:  0.03258679062128067 prediction:  [[4 4 3 2 0]] true Y:  [4, 4, 3, 2, 0] prediction str:  pple!\n",
      "13 loss:  0.024125967174768448 prediction:  [[4 4 3 2 0]] true Y:  [4, 4, 3, 2, 0] prediction str:  pple!\n",
      "14 loss:  0.01829107478260994 prediction:  [[4 4 3 2 0]] true Y:  [4, 4, 3, 2, 0] prediction str:  pple!\n",
      "15 loss:  0.01401529647409916 prediction:  [[4 4 3 2 0]] true Y:  [4, 4, 3, 2, 0] prediction str:  pple!\n",
      "16 loss:  0.010828951373696327 prediction:  [[4 4 3 2 0]] true Y:  [4, 4, 3, 2, 0] prediction str:  pple!\n",
      "17 loss:  0.008461912162601948 prediction:  [[4 4 3 2 0]] true Y:  [4, 4, 3, 2, 0] prediction str:  pple!\n",
      "18 loss:  0.006715087685734034 prediction:  [[4 4 3 2 0]] true Y:  [4, 4, 3, 2, 0] prediction str:  pple!\n",
      "19 loss:  0.005428635515272617 prediction:  [[4 4 3 2 0]] true Y:  [4, 4, 3, 2, 0] prediction str:  pple!\n",
      "20 loss:  0.004475432448089123 prediction:  [[4 4 3 2 0]] true Y:  [4, 4, 3, 2, 0] prediction str:  pple!\n",
      "21 loss:  0.0037583024241030216 prediction:  [[4 4 3 2 0]] true Y:  [4, 4, 3, 2, 0] prediction str:  pple!\n",
      "22 loss:  0.003206582274287939 prediction:  [[4 4 3 2 0]] true Y:  [4, 4, 3, 2, 0] prediction str:  pple!\n",
      "23 loss:  0.0027707740664482117 prediction:  [[4 4 3 2 0]] true Y:  [4, 4, 3, 2, 0] prediction str:  pple!\n",
      "24 loss:  0.002417613286525011 prediction:  [[4 4 3 2 0]] true Y:  [4, 4, 3, 2, 0] prediction str:  pple!\n",
      "25 loss:  0.0021252187434583902 prediction:  [[4 4 3 2 0]] true Y:  [4, 4, 3, 2, 0] prediction str:  pple!\n",
      "26 loss:  0.0018795287469401956 prediction:  [[4 4 3 2 0]] true Y:  [4, 4, 3, 2, 0] prediction str:  pple!\n",
      "27 loss:  0.0016713060904294252 prediction:  [[4 4 3 2 0]] true Y:  [4, 4, 3, 2, 0] prediction str:  pple!\n",
      "28 loss:  0.001494462019763887 prediction:  [[4 4 3 2 0]] true Y:  [4, 4, 3, 2, 0] prediction str:  pple!\n",
      "29 loss:  0.0013443285133689642 prediction:  [[4 4 3 2 0]] true Y:  [4, 4, 3, 2, 0] prediction str:  pple!\n",
      "30 loss:  0.0012173731811344624 prediction:  [[4 4 3 2 0]] true Y:  [4, 4, 3, 2, 0] prediction str:  pple!\n",
      "31 loss:  0.0011103933211416006 prediction:  [[4 4 3 2 0]] true Y:  [4, 4, 3, 2, 0] prediction str:  pple!\n",
      "32 loss:  0.0010205407161265612 prediction:  [[4 4 3 2 0]] true Y:  [4, 4, 3, 2, 0] prediction str:  pple!\n",
      "33 loss:  0.0009452259400859475 prediction:  [[4 4 3 2 0]] true Y:  [4, 4, 3, 2, 0] prediction str:  pple!\n",
      "34 loss:  0.0008820483344607055 prediction:  [[4 4 3 2 0]] true Y:  [4, 4, 3, 2, 0] prediction str:  pple!\n",
      "35 loss:  0.0008290584082715213 prediction:  [[4 4 3 2 0]] true Y:  [4, 4, 3, 2, 0] prediction str:  pple!\n",
      "36 loss:  0.00078442448284477 prediction:  [[4 4 3 2 0]] true Y:  [4, 4, 3, 2, 0] prediction str:  pple!\n",
      "37 loss:  0.000746623903978616 prediction:  [[4 4 3 2 0]] true Y:  [4, 4, 3, 2, 0] prediction str:  pple!\n",
      "38 loss:  0.0007144190603867173 prediction:  [[4 4 3 2 0]] true Y:  [4, 4, 3, 2, 0] prediction str:  pple!\n",
      "39 loss:  0.0006867626216262579 prediction:  [[4 4 3 2 0]] true Y:  [4, 4, 3, 2, 0] prediction str:  pple!\n",
      "40 loss:  0.000662726117298007 prediction:  [[4 4 3 2 0]] true Y:  [4, 4, 3, 2, 0] prediction str:  pple!\n",
      "41 loss:  0.0006417382974177599 prediction:  [[4 4 3 2 0]] true Y:  [4, 4, 3, 2, 0] prediction str:  pple!\n",
      "42 loss:  0.0006232036976143718 prediction:  [[4 4 3 2 0]] true Y:  [4, 4, 3, 2, 0] prediction str:  pple!\n",
      "43 loss:  0.0006067415233701468 prediction:  [[4 4 3 2 0]] true Y:  [4, 4, 3, 2, 0] prediction str:  pple!\n",
      "44 loss:  0.0005918277893215418 prediction:  [[4 4 3 2 0]] true Y:  [4, 4, 3, 2, 0] prediction str:  pple!\n",
      "45 loss:  0.000578295614104718 prediction:  [[4 4 3 2 0]] true Y:  [4, 4, 3, 2, 0] prediction str:  pple!\n",
      "46 loss:  0.0005660738097503781 prediction:  [[4 4 3 2 0]] true Y:  [4, 4, 3, 2, 0] prediction str:  pple!\n",
      "47 loss:  0.0005547095788642764 prediction:  [[4 4 3 2 0]] true Y:  [4, 4, 3, 2, 0] prediction str:  pple!\n",
      "48 loss:  0.0005442982655949891 prediction:  [[4 4 3 2 0]] true Y:  [4, 4, 3, 2, 0] prediction str:  pple!\n",
      "49 loss:  0.0005346254911273718 prediction:  [[4 4 3 2 0]] true Y:  [4, 4, 3, 2, 0] prediction str:  pple!\n",
      "50 loss:  0.0005256436998024583 prediction:  [[4 4 3 2 0]] true Y:  [4, 4, 3, 2, 0] prediction str:  pple!\n",
      "51 loss:  0.0005173526587896049 prediction:  [[4 4 3 2 0]] true Y:  [4, 4, 3, 2, 0] prediction str:  pple!\n",
      "52 loss:  0.0005095858359709382 prediction:  [[4 4 3 2 0]] true Y:  [4, 4, 3, 2, 0] prediction str:  pple!\n",
      "53 loss:  0.0005024384590797126 prediction:  [[4 4 3 2 0]] true Y:  [4, 4, 3, 2, 0] prediction str:  pple!\n",
      "54 loss:  0.0004957198398187757 prediction:  [[4 4 3 2 0]] true Y:  [4, 4, 3, 2, 0] prediction str:  pple!\n",
      "55 loss:  0.00048943015281111 prediction:  [[4 4 3 2 0]] true Y:  [4, 4, 3, 2, 0] prediction str:  pple!\n",
      "56 loss:  0.0004835929721593857 prediction:  [[4 4 3 2 0]] true Y:  [4, 4, 3, 2, 0] prediction str:  pple!\n",
      "57 loss:  0.00047816080041229725 prediction:  [[4 4 3 2 0]] true Y:  [4, 4, 3, 2, 0] prediction str:  pple!\n",
      "58 loss:  0.0004731336666736752 prediction:  [[4 4 3 2 0]] true Y:  [4, 4, 3, 2, 0] prediction str:  pple!\n",
      "59 loss:  0.00046836858382448554 prediction:  [[4 4 3 2 0]] true Y:  [4, 4, 3, 2, 0] prediction str:  pple!\n",
      "60 loss:  0.0004638893879018724 prediction:  [[4 4 3 2 0]] true Y:  [4, 4, 3, 2, 0] prediction str:  pple!\n",
      "61 loss:  0.0004597437218762934 prediction:  [[4 4 3 2 0]] true Y:  [4, 4, 3, 2, 0] prediction str:  pple!\n",
      "62 loss:  0.0004557408974505961 prediction:  [[4 4 3 2 0]] true Y:  [4, 4, 3, 2, 0] prediction str:  pple!\n",
      "63 loss:  0.0004520240763667971 prediction:  [[4 4 3 2 0]] true Y:  [4, 4, 3, 2, 0] prediction str:  pple!\n",
      "64 loss:  0.0004484501259867102 prediction:  [[4 4 3 2 0]] true Y:  [4, 4, 3, 2, 0] prediction str:  pple!\n",
      "65 loss:  0.0004450429114513099 prediction:  [[4 4 3 2 0]] true Y:  [4, 4, 3, 2, 0] prediction str:  pple!\n",
      "66 loss:  0.0004417786840349436 prediction:  [[4 4 3 2 0]] true Y:  [4, 4, 3, 2, 0] prediction str:  pple!\n",
      "67 loss:  0.0004386335494928062 prediction:  [[4 4 3 2 0]] true Y:  [4, 4, 3, 2, 0] prediction str:  pple!\n",
      "68 loss:  0.0004356313147582114 prediction:  [[4 4 3 2 0]] true Y:  [4, 4, 3, 2, 0] prediction str:  pple!\n",
      "69 loss:  0.00043272445327602327 prediction:  [[4 4 3 2 0]] true Y:  [4, 4, 3, 2, 0] prediction str:  pple!\n",
      "70 loss:  0.00042986514745280147 prediction:  [[4 4 3 2 0]] true Y:  [4, 4, 3, 2, 0] prediction str:  pple!\n",
      "71 loss:  0.00042705348460003734 prediction:  [[4 4 3 2 0]] true Y:  [4, 4, 3, 2, 0] prediction str:  pple!\n",
      "72 loss:  0.0004244086449034512 prediction:  [[4 4 3 2 0]] true Y:  [4, 4, 3, 2, 0] prediction str:  pple!\n",
      "73 loss:  0.0004217637761030346 prediction:  [[4 4 3 2 0]] true Y:  [4, 4, 3, 2, 0] prediction str:  pple!\n",
      "74 loss:  0.00041919032810255885 prediction:  [[4 4 3 2 0]] true Y:  [4, 4, 3, 2, 0] prediction str:  pple!\n",
      "75 loss:  0.00041671222425065935 prediction:  [[4 4 3 2 0]] true Y:  [4, 4, 3, 2, 0] prediction str:  pple!\n",
      "76 loss:  0.00041428179247304797 prediction:  [[4 4 3 2 0]] true Y:  [4, 4, 3, 2, 0] prediction str:  pple!\n",
      "77 loss:  0.00041182743734680116 prediction:  [[4 4 3 2 0]] true Y:  [4, 4, 3, 2, 0] prediction str:  pple!\n",
      "78 loss:  0.00040953996358439326 prediction:  [[4 4 3 2 0]] true Y:  [4, 4, 3, 2, 0] prediction str:  pple!\n",
      "79 loss:  0.0004072047886438668 prediction:  [[4 4 3 2 0]] true Y:  [4, 4, 3, 2, 0] prediction str:  pple!\n",
      "80 loss:  0.0004049172275699675 prediction:  [[4 4 3 2 0]] true Y:  [4, 4, 3, 2, 0] prediction str:  pple!\n",
      "81 loss:  0.00040272498154081404 prediction:  [[4 4 3 2 0]] true Y:  [4, 4, 3, 2, 0] prediction str:  pple!\n",
      "82 loss:  0.00040055657154880464 prediction:  [[4 4 3 2 0]] true Y:  [4, 4, 3, 2, 0] prediction str:  pple!\n",
      "83 loss:  0.0003984596114605665 prediction:  [[4 4 3 2 0]] true Y:  [4, 4, 3, 2, 0] prediction str:  pple!\n",
      "84 loss:  0.0003963865456171334 prediction:  [[4 4 3 2 0]] true Y:  [4, 4, 3, 2, 0] prediction str:  pple!\n",
      "85 loss:  0.0003943371993955225 prediction:  [[4 4 3 2 0]] true Y:  [4, 4, 3, 2, 0] prediction str:  pple!\n",
      "86 loss:  0.0003922879113815725 prediction:  [[4 4 3 2 0]] true Y:  [4, 4, 3, 2, 0] prediction str:  pple!\n",
      "87 loss:  0.0003903577453456819 prediction:  [[4 4 3 2 0]] true Y:  [4, 4, 3, 2, 0] prediction str:  pple!\n",
      "88 loss:  0.00038837993633933365 prediction:  [[4 4 3 2 0]] true Y:  [4, 4, 3, 2, 0] prediction str:  pple!\n",
      "89 loss:  0.0003864974423777312 prediction:  [[4 4 3 2 0]] true Y:  [4, 4, 3, 2, 0] prediction str:  pple!\n",
      "90 loss:  0.0003846149193122983 prediction:  [[4 4 3 2 0]] true Y:  [4, 4, 3, 2, 0] prediction str:  pple!\n",
      "91 loss:  0.00038275623228400946 prediction:  [[4 4 3 2 0]] true Y:  [4, 4, 3, 2, 0] prediction str:  pple!\n",
      "92 loss:  0.00038094521733000875 prediction:  [[4 4 3 2 0]] true Y:  [4, 4, 3, 2, 0] prediction str:  pple!\n",
      "93 loss:  0.00037915800930932164 prediction:  [[4 4 3 2 0]] true Y:  [4, 4, 3, 2, 0] prediction str:  pple!\n",
      "94 loss:  0.00037732310011051595 prediction:  [[4 4 3 2 0]] true Y:  [4, 4, 3, 2, 0] prediction str:  pple!\n",
      "95 loss:  0.00037553589208982885 prediction:  [[4 4 3 2 0]] true Y:  [4, 4, 3, 2, 0] prediction str:  pple!\n",
      "96 loss:  0.0003737963561434299 prediction:  [[4 4 3 2 0]] true Y:  [4, 4, 3, 2, 0] prediction str:  pple!\n",
      "97 loss:  0.0003720806271303445 prediction:  [[4 4 3 2 0]] true Y:  [4, 4, 3, 2, 0] prediction str:  pple!\n",
      "98 loss:  0.000370317226042971 prediction:  [[4 4 3 2 0]] true Y:  [4, 4, 3, 2, 0] prediction str:  pple!\n",
      "99 loss:  0.0003686253330670297 prediction:  [[4 4 3 2 0]] true Y:  [4, 4, 3, 2, 0] prediction str:  pple!\n"
     ]
    }
   ],
   "source": [
    "for i in range(100):\n",
    "    optimizer.zero_grad()\n",
    "    outputs = net(X)\n",
    "    loss = criterion(outputs.view(-1, input_size), Y.view(-1)) # view를 하는 이유는 Batch 차원 제거를 위해\n",
    "    loss.backward() # 기울기 계산\n",
    "    optimizer.step() # 아까 optimizer 선언 시 넣어둔 파라미터 업데이트\n",
    "\n",
    "    # 아래 세 줄은 모델이 실제 어떻게 예측했는지를 확인하기 위한 코드.\n",
    "    result = outputs.data.numpy().argmax(axis=2) # 최종 예측값인 각 time-step 별 5차원 벡터에 대해서 가장 높은 값의 인덱스를 선택\n",
    "    result_str = ''.join([index_to_char[c] for c in np.squeeze(result)])\n",
    "    print(i, \"loss: \", loss.item(), \"prediction: \", result, \"true Y: \", y_data, \"prediction str: \", result_str)"
   ]
  },
  {
   "cell_type": "code",
   "execution_count": null,
   "id": "584d4ff2",
   "metadata": {},
   "outputs": [],
   "source": []
  }
 ],
 "metadata": {
  "kernelspec": {
   "display_name": "Python 3",
   "language": "python",
   "name": "python3"
  },
  "language_info": {
   "codemirror_mode": {
    "name": "ipython",
    "version": 3
   },
   "file_extension": ".py",
   "mimetype": "text/x-python",
   "name": "python",
   "nbconvert_exporter": "python",
   "pygments_lexer": "ipython3",
   "version": "3.8.10"
  }
 },
 "nbformat": 4,
 "nbformat_minor": 5
}
