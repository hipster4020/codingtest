{
 "cells": [
  {
   "cell_type": "markdown",
   "id": "9bdbc5c0",
   "metadata": {},
   "source": [
    "#### 단어 단위 RNN with Pytorch embedding layer"
   ]
  },
  {
   "cell_type": "markdown",
   "id": "65de97c7",
   "metadata": {},
   "source": [
    "# "
   ]
  },
  {
   "cell_type": "markdown",
   "id": "27af655f",
   "metadata": {},
   "source": [
    "# *Word RNN*"
   ]
  },
  {
   "cell_type": "markdown",
   "id": "7e637813",
   "metadata": {},
   "source": [
    "### *definition vocab*"
   ]
  },
  {
   "cell_type": "code",
   "execution_count": 1,
   "id": "c947a800",
   "metadata": {},
   "outputs": [],
   "source": [
    "import torch\n",
    "import torch.nn as nn\n",
    "import torch.optim as optim"
   ]
  },
  {
   "cell_type": "code",
   "execution_count": 2,
   "id": "78745fd9",
   "metadata": {},
   "outputs": [
    {
     "name": "stdout",
     "output_type": "stream",
     "text": [
      "['반복은', '기억을', '위한', '최고의', '약이다.']\n"
     ]
    }
   ],
   "source": [
    "sentence = \"반복은 기억을 위한 최고의 약이다.\".split()\n",
    "print(sentence)"
   ]
  },
  {
   "cell_type": "code",
   "execution_count": 3,
   "id": "742a7cf7",
   "metadata": {},
   "outputs": [
    {
     "name": "stdout",
     "output_type": "stream",
     "text": [
      "['약이다.', '기억을', '위한', '반복은', '최고의']\n"
     ]
    }
   ],
   "source": [
    "vocab = list(set(sentence))\n",
    "print(vocab)"
   ]
  },
  {
   "cell_type": "code",
   "execution_count": 4,
   "id": "c06caa44",
   "metadata": {},
   "outputs": [],
   "source": [
    "word2index = {tkn: i for i, tkn in enumerate(vocab, 1)}\n",
    "word2index['<unk>'] = 0"
   ]
  },
  {
   "cell_type": "code",
   "execution_count": 5,
   "id": "151d11b0",
   "metadata": {},
   "outputs": [
    {
     "name": "stdout",
     "output_type": "stream",
     "text": [
      "{'약이다.': 1, '기억을': 2, '위한': 3, '반복은': 4, '최고의': 5, '<unk>': 0}\n",
      "2\n"
     ]
    }
   ],
   "source": [
    "# 최종 단어장\n",
    "print(word2index)\n",
    "print(word2index['기억을'])"
   ]
  },
  {
   "cell_type": "markdown",
   "id": "0d4db675",
   "metadata": {},
   "source": [
    "### *integer indexing*"
   ]
  },
  {
   "cell_type": "code",
   "execution_count": 6,
   "id": "fc5434c0",
   "metadata": {},
   "outputs": [
    {
     "name": "stdout",
     "output_type": "stream",
     "text": [
      "{1: '약이다.', 2: '기억을', 3: '위한', 4: '반복은', 5: '최고의', 0: '<unk>'}\n"
     ]
    }
   ],
   "source": [
    "index2word = {v: k for k, v in word2index.items()}\n",
    "print(index2word)"
   ]
  },
  {
   "cell_type": "code",
   "execution_count": 7,
   "id": "bfc343be",
   "metadata": {},
   "outputs": [],
   "source": [
    "def build_data(sentence, word2index):\n",
    "    encoded = [word2index[token] for token in sentence] # 각 문자를 정수로 변환. \n",
    "    input_seq, label_seq = encoded[:-1], encoded[1:] # 입력 시퀀스와 레이블 시퀀스를 분리\n",
    "    input_seq = torch.LongTensor(input_seq).unsqueeze(0) # 배치 차원 추가\n",
    "    label_seq = torch.LongTensor(label_seq).unsqueeze(0) # 배치 차원 추가\n",
    "    return input_seq, label_seq"
   ]
  },
  {
   "cell_type": "code",
   "execution_count": 8,
   "id": "8033971c",
   "metadata": {},
   "outputs": [],
   "source": [
    "X, Y = build_data(sentence, word2index)"
   ]
  },
  {
   "cell_type": "code",
   "execution_count": 9,
   "id": "48d8af1a",
   "metadata": {},
   "outputs": [
    {
     "name": "stdout",
     "output_type": "stream",
     "text": [
      "X : tensor([[4, 2, 3, 5]])\n",
      "Y : tensor([[2, 3, 5, 1]])\n"
     ]
    }
   ],
   "source": [
    "print(f\"X : {X}\") # 반복은 기억을 위한 최고의\n",
    "print(f\"Y : {Y}\") # 기억을 위한 최고의 약이다"
   ]
  },
  {
   "cell_type": "markdown",
   "id": "53403cdb",
   "metadata": {},
   "source": [
    "### *train*"
   ]
  },
  {
   "cell_type": "code",
   "execution_count": 10,
   "id": "491c83cb",
   "metadata": {},
   "outputs": [],
   "source": [
    "class Net(nn.Module):\n",
    "    def __init__(self, vocab_size, input_size, hidden_size, batch_first=True):\n",
    "        super(Net, self).__init__()\n",
    "        self.embedding_layer = nn.Embedding(num_embeddings=vocab_size, # 워드 임베딩\n",
    "                                            embedding_dim=input_size)\n",
    "        self.rnn_layer = nn.RNN(input_size, hidden_size, # 입력 차원, 은닉 상태의 크기 정의\n",
    "                                batch_first=batch_first)\n",
    "        self.linear = nn.Linear(hidden_size, vocab_size) # 출력은 원-핫 벡터의 크기를 가져야함. 또는 단어 집합의 크기만큼 가져야함.\n",
    "\n",
    "    def forward(self, x):\n",
    "        # 1. 임베딩 층\n",
    "        output = self.embedding_layer(x)  # 크기변화: (배치 크기, 시퀀스 길이) => (배치 크기, 시퀀스 길이, 임베딩 차원)\n",
    "        # 2. RNN 층\n",
    "        output, hidden = self.rnn_layer(output) # 크기변화: (배치 크기, 시퀀스 길이, 임베딩 차원)\n",
    "        # => output (배치 크기, 시퀀스 길이, 은닉층 크기), hidden (1, 배치 크기, 은닉층 크기)\n",
    "        # 3. 최종 출력층\n",
    "        output = self.linear(output) # 크기변화: (배치 크기, 시퀀스 길이, 은닉층 크기) => (배치 크기, 시퀀스 길이, 단어장 크기)\n",
    "        # 4. view를 통해서 배치 차원 제거\n",
    "        return output.view(-1, output.size(2)) # 크기변화: (배치 크기, 시퀀스 길이, 단어장 크기) => (배치 크기*시퀀스 길이, 단어장 크기)"
   ]
  },
  {
   "cell_type": "code",
   "execution_count": 11,
   "id": "a1ddc078",
   "metadata": {},
   "outputs": [],
   "source": [
    "# 하이퍼 파라미터\n",
    "vocab_size = len(word2index)  # 단어장의 크기는 임베딩 층, 최종 출력층에 사용된다. <unk> 토큰을 크기에 포함한다.\n",
    "input_size = 5  # 임베딩 된 차원의 크기 및 RNN 층 입력 차원의 크기\n",
    "hidden_size = 20  # RNN의 은닉층 크기"
   ]
  },
  {
   "cell_type": "code",
   "execution_count": 12,
   "id": "1101a92f",
   "metadata": {},
   "outputs": [],
   "source": [
    "# 모델 생성\n",
    "model = Net(vocab_size, input_size, hidden_size, batch_first=True)\n",
    "# 손실함수 정의\n",
    "loss_function = nn.CrossEntropyLoss() # 소프트맥스 함수 포함이며 실제값은 원-핫 인코딩 안 해도 됨.\n",
    "# 옵티마이저 정의\n",
    "optimizer = optim.Adam(params=model.parameters())"
   ]
  },
  {
   "cell_type": "code",
   "execution_count": 13,
   "id": "c8016946",
   "metadata": {},
   "outputs": [
    {
     "name": "stdout",
     "output_type": "stream",
     "text": [
      "tensor([[ 0.3062,  0.2801,  0.0586, -0.2652,  0.2629, -0.3650],\n",
      "        [ 0.2808, -0.0559, -0.1599,  0.1499,  0.1360, -0.0169],\n",
      "        [ 0.2618,  0.0363,  0.1204, -0.3406,  0.1807, -0.3018],\n",
      "        [ 0.3853,  0.0654, -0.0117,  0.2772,  0.1432,  0.0357]],\n",
      "       grad_fn=<ViewBackward>)\n",
      "torch.Size([4, 6])\n"
     ]
    }
   ],
   "source": [
    "# 임의로 예측해보기. 가중치는 전부 랜덤 초기화 된 상태이다.\n",
    "output = model(X)\n",
    "print(output)\n",
    "print(output.shape)"
   ]
  },
  {
   "cell_type": "markdown",
   "id": "03e41dcd",
   "metadata": {},
   "source": [
    "# "
   ]
  },
  {
   "cell_type": "code",
   "execution_count": 14,
   "id": "98929a5e",
   "metadata": {},
   "outputs": [],
   "source": [
    "# 수치화된 데이터를 단어로 전환하는 함수\n",
    "decode = lambda y: [index2word.get(x) for x in y]"
   ]
  },
  {
   "cell_type": "code",
   "execution_count": 15,
   "id": "99078294",
   "metadata": {},
   "outputs": [
    {
     "name": "stdout",
     "output_type": "stream",
     "text": [
      "[01/201] 1.8800 \n",
      "반복은 <unk> <unk> <unk> <unk>\n",
      "\n",
      "[41/201] 1.2653 \n",
      "반복은 기억을 위한 최고의 약이다.\n",
      "\n",
      "[81/201] 0.5873 \n",
      "반복은 기억을 위한 최고의 약이다.\n",
      "\n",
      "[121/201] 0.2624 \n",
      "반복은 기억을 위한 최고의 약이다.\n",
      "\n",
      "[161/201] 0.1415 \n",
      "반복은 기억을 위한 최고의 약이다.\n",
      "\n",
      "[201/201] 0.0892 \n",
      "반복은 기억을 위한 최고의 약이다.\n",
      "\n"
     ]
    }
   ],
   "source": [
    "# 훈련 시작\n",
    "for step in range(201):\n",
    "    # 경사 초기화\n",
    "    optimizer.zero_grad()\n",
    "    # 순방향 전파\n",
    "    output = model(X)\n",
    "    # 손실값 계산\n",
    "    loss = loss_function(output, Y.view(-1))\n",
    "    # 역방향 전파\n",
    "    loss.backward()\n",
    "    # 매개변수 업데이트\n",
    "    optimizer.step()\n",
    "    # 기록\n",
    "    if step % 40 == 0:\n",
    "        print(\"[{:02d}/201] {:.4f} \".format(step+1, loss))\n",
    "        pred = output.softmax(-1).argmax(-1).tolist()\n",
    "        print(\" \".join([\"반복은\"] + decode(pred)))\n",
    "        print()"
   ]
  }
 ],
 "metadata": {
  "kernelspec": {
   "display_name": "Python 3",
   "language": "python",
   "name": "python3"
  },
  "language_info": {
   "codemirror_mode": {
    "name": "ipython",
    "version": 3
   },
   "file_extension": ".py",
   "mimetype": "text/x-python",
   "name": "python",
   "nbconvert_exporter": "python",
   "pygments_lexer": "ipython3",
   "version": "3.8.10"
  }
 },
 "nbformat": 4,
 "nbformat_minor": 5
}
