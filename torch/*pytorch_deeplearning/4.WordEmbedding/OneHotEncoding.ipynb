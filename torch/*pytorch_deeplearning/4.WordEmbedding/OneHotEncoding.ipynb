{
 "cells": [
  {
   "cell_type": "markdown",
   "id": "ac6bd8ec",
   "metadata": {},
   "source": [
    "# *One-hot Encoding*"
   ]
  },
  {
   "cell_type": "markdown",
   "id": "9e45e70f",
   "metadata": {},
   "source": [
    "컴퓨터는 문자보다 숫자를 더 잘 처리함<br>\n",
    "자연어 처리에서는 문자를 숫자로 바꾸는 여러가지 기법이 있는데, 그 중 <big><b>One-hot Encoding</b></big>은 <u>단어를 표현하는 가장 기본적인 표현 방법</u>"
   ]
  },
  {
   "cell_type": "markdown",
   "id": "f56bd76c",
   "metadata": {},
   "source": [
    "<big><b>단어 집합(Vocabulary)</b></big>\n",
    "<blockquote>서로 다른 단어들의 집합<br>\n",
    "텍스트의 모든 단어를 중복 허용없이 모아놓으면 <u>단어 집합</u>이라고 함<br>\n",
    "텍스트에 단어가 총 5,000개 존재하면, 단어 집합의 크기는 5,000<br></blockquote>"
   ]
  },
  {
   "cell_type": "markdown",
   "id": "a5ad808d",
   "metadata": {},
   "source": [
    "<big><b>원 핫 인코딩 한계</b></big>\n",
    "<blockquote>1. 단어 개수가 늘어날수록, 벡터를 저장하기 위해 <b>필요 공간(벡터 차원)이 계속 늘어남</b><br>\n",
    "&nbsp;&nbsp;&nbsp;&nbsp;&nbsp;<u>원 핫 벡터에서의 단어 집합 크기가 곧 벡터 차원 수</u><br>\n",
    "2. <b>단어의 유사성을 표현할 수 없음</b></blockquote>"
   ]
  },
  {
   "cell_type": "markdown",
   "id": "54fce118",
   "metadata": {},
   "source": [
    "# "
   ]
  },
  {
   "cell_type": "markdown",
   "id": "1a98c1b9",
   "metadata": {},
   "source": [
    "## *Data Load*"
   ]
  },
  {
   "cell_type": "code",
   "execution_count": 1,
   "id": "8b02a679",
   "metadata": {},
   "outputs": [],
   "source": [
    "import pandas as pd\n",
    "from pshmodule.utils import filemanager as fm"
   ]
  },
  {
   "cell_type": "code",
   "execution_count": 2,
   "id": "92875ea4",
   "metadata": {},
   "outputs": [
    {
     "name": "stdout",
     "output_type": "stream",
     "text": [
      "extension : .csv\n",
      "Loaded 5011 records from /mnt/nas_storage3/shpark/practice/data/news_sentiment.csv\n"
     ]
    }
   ],
   "source": [
    "df = fm.load('/mnt/nas_storage3/shpark/practice/data/news_sentiment.csv')\n",
    "df = df[['content', 'sentiment']]\n",
    "df.rename(columns={\"sentiment\":\"label\"}, inplace=True)"
   ]
  },
  {
   "cell_type": "code",
   "execution_count": 3,
   "id": "0086a1bb",
   "metadata": {},
   "outputs": [
    {
     "name": "stdout",
     "output_type": "stream",
     "text": [
      "                                             content label\n",
      "0  G7 원전사고 국경 넘어 민간인에 방사성 물질 노출 위험 무력분쟁 핵시설 파손으로 ...    부정\n",
      "1  에 꽂힌 핀다   렌트리스 이어 오토론까지 보폭 확대 핀다 정상연 수석매니저 인터뷰...    긍정\n",
      "2  3000명 회원에게 제각기 다른 3000개 앱이 되겠다여성 패션앱 1위 에이블리의 ...    긍정\n",
      "3  항공업계 러시아 운항영공 통과 중단우회항로 이용 기사내용 요약대한항공아시아나 등 우...    부정\n",
      "4  에 꽂힌 핀다  렌트리스 이어 오토론까지 보폭 확대 핀다 정상연 수석매니저 인터뷰2...    긍정\n"
     ]
    }
   ],
   "source": [
    "print(df.head())"
   ]
  },
  {
   "cell_type": "markdown",
   "id": "77f652ba",
   "metadata": {},
   "source": [
    "## *Vocabulary*"
   ]
  },
  {
   "cell_type": "code",
   "execution_count": 4,
   "id": "1a94f926",
   "metadata": {},
   "outputs": [],
   "source": [
    "from konlpy.tag import Mecab"
   ]
  },
  {
   "cell_type": "code",
   "execution_count": 5,
   "id": "638b9a61",
   "metadata": {},
   "outputs": [],
   "source": [
    "m = Mecab('/usr/local/lib/mecab/dic/mecab-ko-dic')"
   ]
  },
  {
   "cell_type": "code",
   "execution_count": 6,
   "id": "a9970850",
   "metadata": {},
   "outputs": [],
   "source": [
    "df['nouns'] = df.content.apply(lambda x : m.nouns(x))"
   ]
  },
  {
   "cell_type": "code",
   "execution_count": 7,
   "id": "4ad8d6c5",
   "metadata": {},
   "outputs": [
    {
     "name": "stdout",
     "output_type": "stream",
     "text": [
      "['원전', '사고', '국경', '민간인', '방사성', '물질', '노출', '위험', '무력', '분쟁', '핵시설', '파손', '민간', '위험', '극', '이율', '특파원', '주요', '개국', '비확산', '책임', '자그룹', '일', '우크라이나', '핵안', '전체', '관련', '성명', '우크라', '핵시설', '인근', '러시아', '공격', '우려', '표', '핵시설', '안전', '조처', '규탄', '우크라', '북부', '체르노빌', '원전', '경비', '러시아군', '러시아군', '병사', '일', '우크라', '북부', '프리', '트', '체르노빌', '원자력발전소', '앞', '경계', '근무', '이', '무력', '분쟁', '와중', '핵시설', '파손', '민간인', '위험', '가능', '극', '원전', '사고', '민간인', '환경', '방사성', '물질', '노출', '위험', '국가', '국경', '지적', '국제원자력기구', '추진중', '무력', '분쟁', '와중', '우크라', '핵시설', '안전', '보장', '체계', '합의', '노력', '지지', '라파엘', '그로시', '사무총장', '우크라', '핵시설', '안정', '보장', '체계', '확립', '핵시설', '물리', '유지', '안전보장', '시스템', '장비', '경우', '작동', '바', '그', '운영인력', '안전보장', '의무', '달성', '수', '외부', '전력', '공급', '가능', '핵시설', '내로', '물류', '공급망', '중단', '작동', '지적', '시설', '안팎', '효과', '방사성', '물질', '모니터링', '시스템', '핵시설', '규제', '당국', '간', '수', '소통', '그', '비확산', '책임', '자그룹', '우리', '우크라', '핵시설', '안전보장', '체계', '합의', '사무총장', '긴급', '노력', '지지', '동시', '우크라이나', '영토', '기반시설', '주권', '존중', '말', '이', '각국', '우크라', '핵시설', '기술', '지원', '필요', '자원', '장비', '제공', '것', '촉구', '무력', '분쟁', '지역', '제안', '요건', '충족', '개인', '안전', '환경', '조성', '말', '미국', '영국', '독일', '프랑스', '이탈리아', '일본', '캐나다', '말', '의장국', '독일']\n"
     ]
    }
   ],
   "source": [
    "token = df['nouns'][0]\n",
    "print(token)"
   ]
  },
  {
   "cell_type": "code",
   "execution_count": 8,
   "id": "b3fb07ca",
   "metadata": {},
   "outputs": [],
   "source": [
    "word2index = {}\n",
    "for voca in token:\n",
    "    if voca not in word2index.keys():\n",
    "        word2index[voca] = len(word2index)"
   ]
  },
  {
   "cell_type": "code",
   "execution_count": 9,
   "id": "b0e2f18e",
   "metadata": {},
   "outputs": [
    {
     "name": "stdout",
     "output_type": "stream",
     "text": [
      "{'원전': 0, '사고': 1, '국경': 2, '민간인': 3, '방사성': 4, '물질': 5, '노출': 6, '위험': 7, '무력': 8, '분쟁': 9, '핵시설': 10, '파손': 11, '민간': 12, '극': 13, '이율': 14, '특파원': 15, '주요': 16, '개국': 17, '비확산': 18, '책임': 19, '자그룹': 20, '일': 21, '우크라이나': 22, '핵안': 23, '전체': 24, '관련': 25, '성명': 26, '우크라': 27, '인근': 28, '러시아': 29, '공격': 30, '우려': 31, '표': 32, '안전': 33, '조처': 34, '규탄': 35, '북부': 36, '체르노빌': 37, '경비': 38, '러시아군': 39, '병사': 40, '프리': 41, '트': 42, '원자력발전소': 43, '앞': 44, '경계': 45, '근무': 46, '이': 47, '와중': 48, '가능': 49, '환경': 50, '국가': 51, '지적': 52, '국제원자력기구': 53, '추진중': 54, '보장': 55, '체계': 56, '합의': 57, '노력': 58, '지지': 59, '라파엘': 60, '그로시': 61, '사무총장': 62, '안정': 63, '확립': 64, '물리': 65, '유지': 66, '안전보장': 67, '시스템': 68, '장비': 69, '경우': 70, '작동': 71, '바': 72, '그': 73, '운영인력': 74, '의무': 75, '달성': 76, '수': 77, '외부': 78, '전력': 79, '공급': 80, '내로': 81, '물류': 82, '공급망': 83, '중단': 84, '시설': 85, '안팎': 86, '효과': 87, '모니터링': 88, '규제': 89, '당국': 90, '간': 91, '소통': 92, '우리': 93, '긴급': 94, '동시': 95, '영토': 96, '기반시설': 97, '주권': 98, '존중': 99, '말': 100, '각국': 101, '기술': 102, '지원': 103, '필요': 104, '자원': 105, '제공': 106, '것': 107, '촉구': 108, '지역': 109, '제안': 110, '요건': 111, '충족': 112, '개인': 113, '조성': 114, '미국': 115, '영국': 116, '독일': 117, '프랑스': 118, '이탈리아': 119, '일본': 120, '캐나다': 121, '의장국': 122}\n"
     ]
    }
   ],
   "source": [
    "print(word2index)"
   ]
  },
  {
   "cell_type": "markdown",
   "id": "03395311",
   "metadata": {},
   "source": [
    "## *One-hot Encoding*"
   ]
  },
  {
   "cell_type": "code",
   "execution_count": 10,
   "id": "e03e91c8",
   "metadata": {},
   "outputs": [],
   "source": [
    "def one_hot_encoding(word, word2index):\n",
    "    one_hot_vector = [0] * len(word2index)\n",
    "    index = word2index[word]\n",
    "    one_hot_vector[index] = 1\n",
    "    return one_hot_vector"
   ]
  },
  {
   "cell_type": "code",
   "execution_count": 13,
   "id": "aed81639",
   "metadata": {},
   "outputs": [
    {
     "data": {
      "text/plain": [
       "[0,\n",
       " 0,\n",
       " 0,\n",
       " 0,\n",
       " 1,\n",
       " 0,\n",
       " 0,\n",
       " 0,\n",
       " 0,\n",
       " 0,\n",
       " 0,\n",
       " 0,\n",
       " 0,\n",
       " 0,\n",
       " 0,\n",
       " 0,\n",
       " 0,\n",
       " 0,\n",
       " 0,\n",
       " 0,\n",
       " 0,\n",
       " 0,\n",
       " 0,\n",
       " 0,\n",
       " 0,\n",
       " 0,\n",
       " 0,\n",
       " 0,\n",
       " 0,\n",
       " 0,\n",
       " 0,\n",
       " 0,\n",
       " 0,\n",
       " 0,\n",
       " 0,\n",
       " 0,\n",
       " 0,\n",
       " 0,\n",
       " 0,\n",
       " 0,\n",
       " 0,\n",
       " 0,\n",
       " 0,\n",
       " 0,\n",
       " 0,\n",
       " 0,\n",
       " 0,\n",
       " 0,\n",
       " 0,\n",
       " 0,\n",
       " 0,\n",
       " 0,\n",
       " 0,\n",
       " 0,\n",
       " 0,\n",
       " 0,\n",
       " 0,\n",
       " 0,\n",
       " 0,\n",
       " 0,\n",
       " 0,\n",
       " 0,\n",
       " 0,\n",
       " 0,\n",
       " 0,\n",
       " 0,\n",
       " 0,\n",
       " 0,\n",
       " 0,\n",
       " 0,\n",
       " 0,\n",
       " 0,\n",
       " 0,\n",
       " 0,\n",
       " 0,\n",
       " 0,\n",
       " 0,\n",
       " 0,\n",
       " 0,\n",
       " 0,\n",
       " 0,\n",
       " 0,\n",
       " 0,\n",
       " 0,\n",
       " 0,\n",
       " 0,\n",
       " 0,\n",
       " 0,\n",
       " 0,\n",
       " 0,\n",
       " 0,\n",
       " 0,\n",
       " 0,\n",
       " 0,\n",
       " 0,\n",
       " 0,\n",
       " 0,\n",
       " 0,\n",
       " 0,\n",
       " 0,\n",
       " 0,\n",
       " 0,\n",
       " 0,\n",
       " 0,\n",
       " 0,\n",
       " 0,\n",
       " 0,\n",
       " 0,\n",
       " 0,\n",
       " 0,\n",
       " 0,\n",
       " 0,\n",
       " 0,\n",
       " 0,\n",
       " 0,\n",
       " 0,\n",
       " 0,\n",
       " 0,\n",
       " 0,\n",
       " 0,\n",
       " 0,\n",
       " 0,\n",
       " 0]"
      ]
     },
     "execution_count": 13,
     "metadata": {},
     "output_type": "execute_result"
    }
   ],
   "source": [
    "one_hot_encoding('방사성', word2index)"
   ]
  },
  {
   "cell_type": "code",
   "execution_count": null,
   "id": "af8d69e1",
   "metadata": {},
   "outputs": [],
   "source": []
  }
 ],
 "metadata": {
  "kernelspec": {
   "display_name": "Python 3",
   "language": "python",
   "name": "python3"
  },
  "language_info": {
   "codemirror_mode": {
    "name": "ipython",
    "version": 3
   },
   "file_extension": ".py",
   "mimetype": "text/x-python",
   "name": "python",
   "nbconvert_exporter": "python",
   "pygments_lexer": "ipython3",
   "version": "3.8.10"
  }
 },
 "nbformat": 4,
 "nbformat_minor": 5
}
