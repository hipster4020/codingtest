{
 "cells": [
  {
   "cell_type": "code",
   "execution_count": 1,
   "id": "1cc1c54a",
   "metadata": {},
   "outputs": [],
   "source": [
    "import torch\n",
    "import torch.nn as nn"
   ]
  },
  {
   "cell_type": "code",
   "execution_count": 3,
   "id": "50e09975",
   "metadata": {},
   "outputs": [],
   "source": [
    "class Perceptron(nn.Module):\n",
    "    \"\"\"\n",
    "    퍼셉트론은 하나의 선형층\n",
    "    \"\"\"\n",
    "    def __init__(self, input_dim):\n",
    "        \"\"\"\n",
    "        매개변수:\n",
    "            input_dim(int): 입력 특성 크기 \n",
    "        \"\"\"\n",
    "        super(Perception, self).__init__()\n",
    "        self.fc1 = nn.Linear(input_dim, 1) # weight, bias는 nn.Linear에서 관리. 절편이 필요없다면 nn.Linear 호출 시 bias=False\n",
    "        \n",
    "    def forward(self, x_in):\n",
    "        \"\"\"\n",
    "        퍼셉트론의 정방향 계산\n",
    "        \n",
    "        parameter:\n",
    "            x_in (torch.Tensor): 입력 데이터 텐서\n",
    "                x_in.shape는 (batch, num_features)입니다.\n",
    "        return:\n",
    "            결과 텐서. tensor.shape는 (batch,)입니다.\n",
    "        \"\"\"\n",
    "        return torch.sigmoid(self.fc1(x_in)).squeeze()"
   ]
  },
  {
   "cell_type": "code",
   "execution_count": null,
   "id": "7c4f887b",
   "metadata": {},
   "outputs": [],
   "source": []
  }
 ],
 "metadata": {
  "kernelspec": {
   "display_name": "Python 3",
   "language": "python",
   "name": "python3"
  },
  "language_info": {
   "codemirror_mode": {
    "name": "ipython",
    "version": 3
   },
   "file_extension": ".py",
   "mimetype": "text/x-python",
   "name": "python",
   "nbconvert_exporter": "python",
   "pygments_lexer": "ipython3",
   "version": "3.8.10"
  }
 },
 "nbformat": 4,
 "nbformat_minor": 5
}
