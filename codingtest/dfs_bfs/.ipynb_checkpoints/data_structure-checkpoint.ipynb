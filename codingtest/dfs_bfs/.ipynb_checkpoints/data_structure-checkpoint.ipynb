{
 "cells": [
  {
   "cell_type": "markdown",
   "id": "0b7fcf33",
   "metadata": {},
   "source": [
    "# *자료구조(Data Structure)*\n",
    "\n",
    "데이터를 표현하고 관리하고 처리하기 위한 구조"
   ]
  },
  {
   "cell_type": "markdown",
   "id": "d3d84453",
   "metadata": {},
   "source": [
    "# "
   ]
  },
  {
   "cell_type": "markdown",
   "id": "a79bbbc2",
   "metadata": {},
   "source": [
    "# *Stack*\n",
    "박스쌓기<br>\n",
    "<blockquote><b>선입후출</b><br>\n",
    "<b>append, pop으로 구현 가능</b>\n",
    "</blockquote>"
   ]
  },
  {
   "cell_type": "code",
   "execution_count": 3,
   "id": "9ed2d6e9",
   "metadata": {},
   "outputs": [
    {
     "name": "stdout",
     "output_type": "stream",
     "text": [
      "[5, 2, 3, 1]\n"
     ]
    }
   ],
   "source": [
    "stack = []\n",
    "\n",
    "stack.append(5)\n",
    "stack.append(2)\n",
    "stack.append(3)\n",
    "stack.append(7)\n",
    "stack.pop()\n",
    "stack.append(1)\n",
    "stack.append(4)\n",
    "stack.pop()\n",
    "\n",
    "print(stack)"
   ]
  },
  {
   "cell_type": "markdown",
   "id": "4f6a71e2",
   "metadata": {},
   "source": [
    "# "
   ]
  },
  {
   "cell_type": "markdown",
   "id": "7253ee85",
   "metadata": {},
   "source": [
    "# *Queue*\n",
    "대기줄<br>\n",
    "<blockquote><b>선입선출</b><br>\n",
    "<b>collections deque로 구현 가능</b>\n",
    "</blockquote>"
   ]
  },
  {
   "cell_type": "code",
   "execution_count": 1,
   "id": "a69fc16e",
   "metadata": {},
   "outputs": [],
   "source": [
    "from collections import deque"
   ]
  },
  {
   "cell_type": "code",
   "execution_count": 2,
   "id": "1a279fa0",
   "metadata": {},
   "outputs": [],
   "source": [
    "queue = deque()"
   ]
  },
  {
   "cell_type": "code",
   "execution_count": 3,
   "id": "cd480054",
   "metadata": {},
   "outputs": [
    {
     "name": "stdout",
     "output_type": "stream",
     "text": [
      "deque([3, 7, 1, 4])\n",
      "deque([4, 1, 7, 3])\n"
     ]
    }
   ],
   "source": [
    "queue.append(5)\n",
    "queue.append(2)\n",
    "queue.append(3)\n",
    "queue.append(7)\n",
    "queue.popleft()\n",
    "queue.append(1)\n",
    "queue.append(4)\n",
    "queue.popleft()\n",
    "\n",
    "print(queue)\n",
    "queue.reverse()\n",
    "print(queue)\n"
   ]
  },
  {
   "cell_type": "markdown",
   "id": "d45baaae",
   "metadata": {},
   "source": [
    "# "
   ]
  },
  {
   "cell_type": "markdown",
   "id": "4c4d5e94",
   "metadata": {},
   "source": [
    "# *재귀 함수*"
   ]
  },
  {
   "cell_type": "markdown",
   "id": "d986b775",
   "metadata": {},
   "source": [
    "자기 자신을 다시 호출하는 함수<br>\n",
    "무한히 자기 자신을 호출하기 때문에 반드시 종료 조건을 넣어주어야한다<br><br>\n",
    "<b>재귀 함수는 메인 메모리의 스택 구조로 적재된다.</b>"
   ]
  },
  {
   "cell_type": "code",
   "execution_count": 5,
   "id": "48dd0e29",
   "metadata": {},
   "outputs": [],
   "source": [
    "def recursive_function(i):\n",
    "    if i == 5:\n",
    "        return\n",
    "    print(f\"{i}번째 재귀 함수에서 {i + 1}번째 재귀 함수를 호출.\")\n",
    "    recursive_function(i + 1)\n",
    "    print(f\"{i}번째 재귀 함수 종료.\")"
   ]
  },
  {
   "cell_type": "code",
   "execution_count": 6,
   "id": "f441d405",
   "metadata": {},
   "outputs": [
    {
     "name": "stdout",
     "output_type": "stream",
     "text": [
      "1번째 재귀 함수에서 2번째 재귀 함수를 호출.\n",
      "2번째 재귀 함수에서 3번째 재귀 함수를 호출.\n",
      "3번째 재귀 함수에서 4번째 재귀 함수를 호출.\n",
      "4번째 재귀 함수에서 5번째 재귀 함수를 호출.\n",
      "4번째 재귀 함수 종료.\n",
      "3번째 재귀 함수 종료.\n",
      "2번째 재귀 함수 종료.\n",
      "1번째 재귀 함수 종료.\n"
     ]
    }
   ],
   "source": [
    "recursive_function(1)"
   ]
  }
 ],
 "metadata": {
  "kernelspec": {
   "display_name": "Python 3",
   "language": "python",
   "name": "python3"
  },
  "language_info": {
   "codemirror_mode": {
    "name": "ipython",
    "version": 3
   },
   "file_extension": ".py",
   "mimetype": "text/x-python",
   "name": "python",
   "nbconvert_exporter": "python",
   "pygments_lexer": "ipython3",
   "version": "3.8.10"
  }
 },
 "nbformat": 4,
 "nbformat_minor": 5
}
