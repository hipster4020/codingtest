{
 "cells": [
  {
   "cell_type": "markdown",
   "id": "85e86d25",
   "metadata": {},
   "source": [
    "### 자료 구조\n",
    "데이터를 표현하고 관리하고 처리하기 위한 구조<br>\n",
    "삽입 : push<br>\n",
    "삭제 : pop<br><br>\n",
    "오버플로 : 데이터가 가득 차 있는 상태에서 삽입 연산<br>\n",
    "언더플로 : 데이터가 없는 상태에서 삭제 연산"
   ]
  },
  {
   "cell_type": "markdown",
   "id": "4d7162be",
   "metadata": {},
   "source": [
    "## *stack*\n",
    "선입후출"
   ]
  },
  {
   "cell_type": "code",
   "execution_count": 1,
   "id": "db385e6b",
   "metadata": {},
   "outputs": [],
   "source": [
    "def main():\n",
    "    stack = []\n",
    "    \n",
    "    stack.append(5)\n",
    "    stack.append(2)\n",
    "    stack.append(3)\n",
    "    stack.append(7)\n",
    "    stack.pop()\n",
    "    stack.append(1)\n",
    "    stack.append(4)\n",
    "    stack.pop()\n",
    "    # 5 2 3 1\n",
    "    \n",
    "    return stack"
   ]
  },
  {
   "cell_type": "code",
   "execution_count": 2,
   "id": "9c129411",
   "metadata": {},
   "outputs": [
    {
     "name": "stdout",
     "output_type": "stream",
     "text": [
      "[5, 2, 3, 1]\n"
     ]
    }
   ],
   "source": [
    "result = main()"
   ]
  },
  {
   "cell_type": "code",
   "execution_count": 3,
   "id": "599cd3c7",
   "metadata": {},
   "outputs": [
    {
     "name": "stdout",
     "output_type": "stream",
     "text": [
      "[5, 2, 3, 1]\n",
      "[1, 3, 2, 5]\n"
     ]
    }
   ],
   "source": [
    "print(result)\n",
    "print(result[::-1])"
   ]
  },
  {
   "cell_type": "markdown",
   "id": "8d20a9d3",
   "metadata": {},
   "source": [
    "## *Queue*\n",
    "선입선출"
   ]
  },
  {
   "cell_type": "code",
   "execution_count": 4,
   "id": "f2c9a1c6",
   "metadata": {},
   "outputs": [],
   "source": [
    "from collections import deque"
   ]
  },
  {
   "cell_type": "code",
   "execution_count": 6,
   "id": "65e2e5b3",
   "metadata": {},
   "outputs": [],
   "source": [
    "def main():\n",
    "    queue = deque()\n",
    "    \n",
    "    queue.append(5)\n",
    "    queue.append(2)\n",
    "    queue.append(3)\n",
    "    queue.append(7)\n",
    "    queue.popleft()\n",
    "    queue.append(1)\n",
    "    queue.append(4)\n",
    "    queue.popleft()\n",
    "    # 3 7 1 4\n",
    "    \n",
    "    return queue"
   ]
  },
  {
   "cell_type": "code",
   "execution_count": 7,
   "id": "4449747b",
   "metadata": {},
   "outputs": [],
   "source": [
    "result = main()"
   ]
  },
  {
   "cell_type": "code",
   "execution_count": 8,
   "id": "0af622dd",
   "metadata": {},
   "outputs": [
    {
     "name": "stdout",
     "output_type": "stream",
     "text": [
      "deque([3, 7, 1, 4])\n"
     ]
    }
   ],
   "source": [
    "print(result)"
   ]
  },
  {
   "cell_type": "code",
   "execution_count": null,
   "id": "5c629728",
   "metadata": {},
   "outputs": [],
   "source": [
    "result.reverse()"
   ]
  },
  {
   "cell_type": "code",
   "execution_count": 10,
   "id": "bcd6bf54",
   "metadata": {},
   "outputs": [
    {
     "name": "stdout",
     "output_type": "stream",
     "text": [
      "deque([4, 1, 7, 3])\n"
     ]
    }
   ],
   "source": [
    "print(result)"
   ]
  },
  {
   "cell_type": "code",
   "execution_count": null,
   "id": "86090093",
   "metadata": {},
   "outputs": [],
   "source": []
  }
 ],
 "metadata": {
  "kernelspec": {
   "display_name": "Python 3",
   "language": "python",
   "name": "python3"
  },
  "language_info": {
   "codemirror_mode": {
    "name": "ipython",
    "version": 3
   },
   "file_extension": ".py",
   "mimetype": "text/x-python",
   "name": "python",
   "nbconvert_exporter": "python",
   "pygments_lexer": "ipython3",
   "version": "3.8.10"
  }
 },
 "nbformat": 4,
 "nbformat_minor": 5
}
