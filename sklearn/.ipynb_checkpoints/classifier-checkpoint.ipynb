{
 "cells": [
  {
   "cell_type": "markdown",
   "id": "46899b32",
   "metadata": {},
   "source": [
    "# *Sklearn Classifier*"
   ]
  },
  {
   "cell_type": "markdown",
   "id": "97a314b7",
   "metadata": {},
   "source": [
    "# "
   ]
  },
  {
   "cell_type": "markdown",
   "id": "395f0e3b",
   "metadata": {},
   "source": [
    "## *Data Load*"
   ]
  },
  {
   "cell_type": "code",
   "execution_count": 1,
   "id": "29ffe5be",
   "metadata": {},
   "outputs": [],
   "source": [
    "import pandas as pd\n",
    "import numpy as np"
   ]
  },
  {
   "cell_type": "code",
   "execution_count": null,
   "id": "879b406b",
   "metadata": {},
   "outputs": [],
   "source": []
  },
  {
   "cell_type": "markdown",
   "id": "96d39c5d",
   "metadata": {},
   "source": [
    "## *k-fold cross validation*"
   ]
  },
  {
   "cell_type": "markdown",
   "id": "44de0443",
   "metadata": {},
   "source": [
    "#### *데이터가 매우 적은 경우 적용하려는 방법론이 적절한지 평가하기 위함*"
   ]
  },
  {
   "cell_type": "code",
   "execution_count": null,
   "id": "8fb7af32",
   "metadata": {},
   "outputs": [],
   "source": []
  }
 ],
 "metadata": {
  "kernelspec": {
   "display_name": "Python 3",
   "language": "python",
   "name": "python3"
  },
  "language_info": {
   "codemirror_mode": {
    "name": "ipython",
    "version": 3
   },
   "file_extension": ".py",
   "mimetype": "text/x-python",
   "name": "python",
   "nbconvert_exporter": "python",
   "pygments_lexer": "ipython3",
   "version": "3.8.10"
  }
 },
 "nbformat": 4,
 "nbformat_minor": 5
}
