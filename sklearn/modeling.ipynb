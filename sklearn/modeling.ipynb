{
 "cells": [
  {
   "cell_type": "markdown",
   "id": "109cefb1",
   "metadata": {},
   "source": [
    "# *data load*"
   ]
  },
  {
   "cell_type": "code",
   "execution_count": 1,
   "id": "a14da2d6",
   "metadata": {},
   "outputs": [],
   "source": [
    "import pandas as pd\n",
    "import numpy as np"
   ]
  },
  {
   "cell_type": "code",
   "execution_count": 2,
   "id": "d6e6b609",
   "metadata": {},
   "outputs": [],
   "source": [
    "df = pd.read_csv('../../data/sentiment.csv')\n",
    "df = df[['content', 'vec', 'sentiment']]"
   ]
  },
  {
   "cell_type": "code",
   "execution_count": 3,
   "id": "5026219d",
   "metadata": {},
   "outputs": [
    {
     "data": {
      "text/html": [
       "<div>\n",
       "<style scoped>\n",
       "    .dataframe tbody tr th:only-of-type {\n",
       "        vertical-align: middle;\n",
       "    }\n",
       "\n",
       "    .dataframe tbody tr th {\n",
       "        vertical-align: top;\n",
       "    }\n",
       "\n",
       "    .dataframe thead th {\n",
       "        text-align: right;\n",
       "    }\n",
       "</style>\n",
       "<table border=\"1\" class=\"dataframe\">\n",
       "  <thead>\n",
       "    <tr style=\"text-align: right;\">\n",
       "      <th></th>\n",
       "      <th>content</th>\n",
       "      <th>vec</th>\n",
       "      <th>sentiment</th>\n",
       "    </tr>\n",
       "  </thead>\n",
       "  <tbody>\n",
       "    <tr>\n",
       "      <th>0</th>\n",
       "      <td>G7 원전사고 국경 넘어 민간인에 방사성 물질 노출 위험 무력분쟁 핵시설 파손으로 ...</td>\n",
       "      <td>[0.0, 0.0, 0.0, 0.0, 0.0, 0.0, 0.0, 0.0, 0.0, ...</td>\n",
       "      <td>2</td>\n",
       "    </tr>\n",
       "    <tr>\n",
       "      <th>1</th>\n",
       "      <td>에 꽂힌 핀다   렌트리스 이어 오토론까지 보폭 확대 핀다 정상연 수석매니저 인터뷰...</td>\n",
       "      <td>[0.0, 0.0, 0.0, 0.0, 0.0, 0.0, 0.0451434348289...</td>\n",
       "      <td>1</td>\n",
       "    </tr>\n",
       "    <tr>\n",
       "      <th>2</th>\n",
       "      <td>3000명 회원에게 제각기 다른 3000개 앱이 되겠다여성 패션앱 1위 에이블리의 ...</td>\n",
       "      <td>[0.0, 0.0, 0.0, 0.0, 0.0, 0.0, 0.0, 0.0, 0.0, ...</td>\n",
       "      <td>1</td>\n",
       "    </tr>\n",
       "    <tr>\n",
       "      <th>3</th>\n",
       "      <td>항공업계 러시아 운항영공 통과 중단우회항로 이용 기사내용 요약대한항공아시아나 등 우...</td>\n",
       "      <td>[0.0, 0.0, 0.0, 0.0, 0.0, 0.0, 0.0, 0.0, 0.0, ...</td>\n",
       "      <td>2</td>\n",
       "    </tr>\n",
       "    <tr>\n",
       "      <th>4</th>\n",
       "      <td>에 꽂힌 핀다  렌트리스 이어 오토론까지 보폭 확대 핀다 정상연 수석매니저 인터뷰2...</td>\n",
       "      <td>[0.0, 0.0, 0.0, 0.0, 0.0, 0.0, 0.0450219082043...</td>\n",
       "      <td>1</td>\n",
       "    </tr>\n",
       "  </tbody>\n",
       "</table>\n",
       "</div>"
      ],
      "text/plain": [
       "                                             content  \\\n",
       "0  G7 원전사고 국경 넘어 민간인에 방사성 물질 노출 위험 무력분쟁 핵시설 파손으로 ...   \n",
       "1  에 꽂힌 핀다   렌트리스 이어 오토론까지 보폭 확대 핀다 정상연 수석매니저 인터뷰...   \n",
       "2  3000명 회원에게 제각기 다른 3000개 앱이 되겠다여성 패션앱 1위 에이블리의 ...   \n",
       "3  항공업계 러시아 운항영공 통과 중단우회항로 이용 기사내용 요약대한항공아시아나 등 우...   \n",
       "4  에 꽂힌 핀다  렌트리스 이어 오토론까지 보폭 확대 핀다 정상연 수석매니저 인터뷰2...   \n",
       "\n",
       "                                                 vec  sentiment  \n",
       "0  [0.0, 0.0, 0.0, 0.0, 0.0, 0.0, 0.0, 0.0, 0.0, ...          2  \n",
       "1  [0.0, 0.0, 0.0, 0.0, 0.0, 0.0, 0.0451434348289...          1  \n",
       "2  [0.0, 0.0, 0.0, 0.0, 0.0, 0.0, 0.0, 0.0, 0.0, ...          1  \n",
       "3  [0.0, 0.0, 0.0, 0.0, 0.0, 0.0, 0.0, 0.0, 0.0, ...          2  \n",
       "4  [0.0, 0.0, 0.0, 0.0, 0.0, 0.0, 0.0450219082043...          1  "
      ]
     },
     "execution_count": 3,
     "metadata": {},
     "output_type": "execute_result"
    }
   ],
   "source": [
    "df.head()"
   ]
  },
  {
   "cell_type": "code",
   "execution_count": 4,
   "id": "7a9bef00",
   "metadata": {},
   "outputs": [
    {
     "name": "stdout",
     "output_type": "stream",
     "text": [
      "<class 'pandas.core.frame.DataFrame'>\n",
      "RangeIndex: 5011 entries, 0 to 5010\n",
      "Data columns (total 3 columns):\n",
      " #   Column     Non-Null Count  Dtype \n",
      "---  ------     --------------  ----- \n",
      " 0   content    5011 non-null   object\n",
      " 1   vec        5011 non-null   object\n",
      " 2   sentiment  5011 non-null   int64 \n",
      "dtypes: int64(1), object(2)\n",
      "memory usage: 117.6+ KB\n"
     ]
    }
   ],
   "source": [
    "df.info()"
   ]
  },
  {
   "cell_type": "markdown",
   "id": "01d23c84",
   "metadata": {},
   "source": [
    "# *make train, test*"
   ]
  },
  {
   "cell_type": "code",
   "execution_count": 5,
   "id": "7a62639a",
   "metadata": {},
   "outputs": [],
   "source": [
    "from sklearn.model_selection import train_test_split"
   ]
  },
  {
   "cell_type": "code",
   "execution_count": 6,
   "id": "5de31834",
   "metadata": {},
   "outputs": [],
   "source": [
    "train_data, test_data = train_test_split(df, test_size=0.2, random_state=42)"
   ]
  },
  {
   "cell_type": "code",
   "execution_count": 7,
   "id": "5f0772b3",
   "metadata": {},
   "outputs": [],
   "source": [
    "train_data = train_data.reset_index()\n",
    "test_data = test_data.reset_index()"
   ]
  },
  {
   "cell_type": "code",
   "execution_count": 8,
   "id": "8cb7deb5",
   "metadata": {},
   "outputs": [
    {
     "name": "stdout",
     "output_type": "stream",
     "text": [
      "5011\n",
      "4008\n",
      "1003\n"
     ]
    }
   ],
   "source": [
    "print(len(df))\n",
    "print(len(train_data))\n",
    "print(len(test_data))"
   ]
  },
  {
   "cell_type": "code",
   "execution_count": 9,
   "id": "7db39a4a",
   "metadata": {},
   "outputs": [],
   "source": [
    "# test\n",
    "test_vec = []\n",
    "for i in test_data.vec:\n",
    "    test_vec.append(eval(i))\n",
    "\n",
    "\n",
    "test_label = [i for i in test_data.sentiment]"
   ]
  },
  {
   "cell_type": "code",
   "execution_count": 10,
   "id": "b6f14fb5",
   "metadata": {},
   "outputs": [],
   "source": [
    "# train\n",
    "train_vec = []\n",
    "for i in train_data.vec:\n",
    "    train_vec.append(eval(i))\n",
    "\n",
    "\n",
    "train_label = [i for i in train_data.sentiment]"
   ]
  },
  {
   "cell_type": "code",
   "execution_count": 11,
   "id": "d0ded232",
   "metadata": {},
   "outputs": [
    {
     "data": {
      "text/plain": [
       "[0.0, 0.0, 0.0, 0.0, 0.0, 0.0, 0.0, 0.0, 0.0, 0.0]"
      ]
     },
     "execution_count": 11,
     "metadata": {},
     "output_type": "execute_result"
    }
   ],
   "source": [
    "train_vec[1][:10]"
   ]
  },
  {
   "cell_type": "code",
   "execution_count": 12,
   "id": "d917f844",
   "metadata": {},
   "outputs": [
    {
     "name": "stdout",
     "output_type": "stream",
     "text": [
      "4008\n",
      "1003\n"
     ]
    }
   ],
   "source": [
    "print(len(train_vec))\n",
    "print(len(test_vec))"
   ]
  },
  {
   "cell_type": "markdown",
   "id": "37ca0f78",
   "metadata": {},
   "source": [
    "# *classifier*"
   ]
  },
  {
   "cell_type": "code",
   "execution_count": 13,
   "id": "048b1ed8",
   "metadata": {},
   "outputs": [],
   "source": [
    "# kNN\n",
    "from sklearn.neighbors import KNeighborsClassifier\n",
    "# Decision Tree\n",
    "from sklearn.tree import DecisionTreeClassifier\n",
    "# Random Forest\n",
    "from sklearn.ensemble import RandomForestClassifier\n",
    "# 나이브 베이즈\n",
    "from sklearn.naive_bayes import GaussianNB\n",
    "# 서포터 벡터 머신\n",
    "from sklearn.svm import SVC"
   ]
  },
  {
   "cell_type": "code",
   "execution_count": 14,
   "id": "293f9ac3",
   "metadata": {},
   "outputs": [],
   "source": [
    "from sklearn.model_selection import KFold, cross_val_score"
   ]
  },
  {
   "cell_type": "code",
   "execution_count": 15,
   "id": "1f6e9b41",
   "metadata": {},
   "outputs": [
    {
     "name": "stdout",
     "output_type": "stream",
     "text": [
      "<class 'pandas.core.frame.DataFrame'>\n",
      "RangeIndex: 4008 entries, 0 to 4007\n",
      "Data columns (total 4 columns):\n",
      " #   Column     Non-Null Count  Dtype \n",
      "---  ------     --------------  ----- \n",
      " 0   index      4008 non-null   int64 \n",
      " 1   content    4008 non-null   object\n",
      " 2   vec        4008 non-null   object\n",
      " 3   sentiment  4008 non-null   int64 \n",
      "dtypes: int64(2), object(2)\n",
      "memory usage: 125.4+ KB\n"
     ]
    }
   ],
   "source": [
    "train_data.info()"
   ]
  },
  {
   "cell_type": "markdown",
   "id": "b87de597",
   "metadata": {},
   "source": [
    "### *score*"
   ]
  },
  {
   "cell_type": "code",
   "execution_count": 16,
   "id": "fc13fb90",
   "metadata": {},
   "outputs": [],
   "source": [
    "scoring = 'accuracy'"
   ]
  },
  {
   "cell_type": "code",
   "execution_count": 17,
   "id": "8a75b792",
   "metadata": {},
   "outputs": [],
   "source": [
    "k_fold = KFold(shuffle = True, random_state=0)"
   ]
  },
  {
   "cell_type": "code",
   "execution_count": null,
   "id": "540ff791",
   "metadata": {},
   "outputs": [],
   "source": [
    "# knn\n",
    "knn_clf = KNeighborsClassifier()\n",
    "knn_clf = knn_clf.fit(train_vec, train_label)\n",
    "knn_score = cross_val_score(knn_clf, train_vec, train_label, cv=k_fold, n_jobs=1, scoring=scoring)\n",
    "\n",
    "# decision tree\n",
    "dt_clf = DecisionTreeClassifier()\n",
    "dt_clf = dt_clf.fit(train_vec, train_label)\n",
    "dt_score = cross_val_score(dt_clf, train_vec, train_label, cv=k_fold, n_jobs=1, scoring=scoring)\n",
    "\n",
    "# random forest\n",
    "rf_clf = RandomForestClassifier()\n",
    "rf_clf = rf_clf.fit(train_vec, train_label)\n",
    "rf_score = cross_val_score(rf_clf, train_vec, train_label, cv=k_fold, n_jobs=1, scoring=scoring)\n",
    "\n",
    "# naive bayes\n",
    "nb_clf = GaussianNB()\n",
    "nb_clf = nb_clf.fit(train_vec, train_label)\n",
    "nb_score = cross_val_score(nb_clf, train_vec, train_label, cv=k_fold, n_jobs=1, scoring=scoring)\n",
    "\n",
    "# svm\n",
    "svm_clf = SVC()\n",
    "svm_clf = svm_clf.fit(train_vec, train_label)\n",
    "svm_score = cross_val_score(svm_clf, train_vec, train_label, cv=k_fold, n_jobs=1, scoring=scoring)"
   ]
  },
  {
   "cell_type": "code",
   "execution_count": null,
   "id": "ec248c25",
   "metadata": {},
   "outputs": [],
   "source": [
    "svm_score"
   ]
  },
  {
   "cell_type": "code",
   "execution_count": null,
   "id": "e9a84387",
   "metadata": {},
   "outputs": [],
   "source": [
    "print(f\"kNN_score : {round(np.mean(knn_score) * 100, 2)}\")\n",
    "print(f\"DecisionTree_score : {round(np.mean(dt_score) * 100, 2)}\")\n",
    "print(f\"RandomForest_score : {round(np.mean(rf_score) * 100, 2)}\")\n",
    "print(f\"naivebayes_score : {round(np.mean(nb_score) * 100, 2)}\")\n",
    "print(f\"svm_score : {round(np.mean(svm_score) * 100, 2)}\")"
   ]
  },
  {
   "cell_type": "markdown",
   "id": "87e96dfe",
   "metadata": {},
   "source": [
    "# *doc2vec*\n",
    "##### *vector_size 256*\n",
    "##### *kNN_score : 64.52*\n",
    "##### *DecisionTree_score : 56.52*\n",
    "##### *RandomForest_score : 71.9*\n",
    "##### *naivebayes_score : 53.9*\n",
    "##### *svm_score : 70.54*\n",
    "# \n",
    "# *TF-IDF*\n",
    "##### *kNN_score : 75.27*\n",
    "##### *DecisionTree_score : 74.08*\n",
    "##### *RandomForest_score : 82.81*\n",
    "##### *naivebayes_score : 76.52*\n",
    "##### *svm_score : 82.26*"
   ]
  },
  {
   "cell_type": "markdown",
   "id": "295fae0d",
   "metadata": {},
   "source": [
    "# "
   ]
  },
  {
   "cell_type": "markdown",
   "id": "a5d1fd30",
   "metadata": {},
   "source": [
    "### *Random Forest*"
   ]
  },
  {
   "cell_type": "code",
   "execution_count": 35,
   "id": "59cbe3ff",
   "metadata": {},
   "outputs": [],
   "source": [
    "from sklearn.ensemble import RandomForestClassifier"
   ]
  },
  {
   "cell_type": "code",
   "execution_count": 36,
   "id": "3a4008f3",
   "metadata": {},
   "outputs": [],
   "source": [
    "rf_clf = RandomForestClassifier()"
   ]
  },
  {
   "cell_type": "code",
   "execution_count": 37,
   "id": "606bd746",
   "metadata": {},
   "outputs": [
    {
     "data": {
      "text/plain": [
       "RandomForestClassifier()"
      ]
     },
     "execution_count": 37,
     "metadata": {},
     "output_type": "execute_result"
    }
   ],
   "source": [
    "rf_clf.fit(train_vec, train_label)"
   ]
  },
  {
   "cell_type": "code",
   "execution_count": 38,
   "id": "cefac515",
   "metadata": {},
   "outputs": [],
   "source": [
    "test_pred = rf_clf.predict(test_vec)"
   ]
  },
  {
   "cell_type": "code",
   "execution_count": 39,
   "id": "db03a5dd",
   "metadata": {},
   "outputs": [],
   "source": [
    "# labeling\n",
    "test_data['label'] = test_pred"
   ]
  },
  {
   "cell_type": "code",
   "execution_count": 40,
   "id": "29a07673",
   "metadata": {},
   "outputs": [
    {
     "data": {
      "text/html": [
       "<div>\n",
       "<style scoped>\n",
       "    .dataframe tbody tr th:only-of-type {\n",
       "        vertical-align: middle;\n",
       "    }\n",
       "\n",
       "    .dataframe tbody tr th {\n",
       "        vertical-align: top;\n",
       "    }\n",
       "\n",
       "    .dataframe thead th {\n",
       "        text-align: right;\n",
       "    }\n",
       "</style>\n",
       "<table border=\"1\" class=\"dataframe\">\n",
       "  <thead>\n",
       "    <tr style=\"text-align: right;\">\n",
       "      <th></th>\n",
       "      <th>index</th>\n",
       "      <th>content</th>\n",
       "      <th>vec</th>\n",
       "      <th>sentiment</th>\n",
       "      <th>label</th>\n",
       "    </tr>\n",
       "  </thead>\n",
       "  <tbody>\n",
       "    <tr>\n",
       "      <th>0</th>\n",
       "      <td>1052</td>\n",
       "      <td>뤼이드 세계서 가장 혁신적인 기업 선정 뤼이드는 미국 기술 경제 전문지 패스트컴퍼니...</td>\n",
       "      <td>[0.0, 0.0, 0.0, 0.0, 0.0, 0.0, 0.0, 0.0, 0.0, ...</td>\n",
       "      <td>1</td>\n",
       "      <td>1</td>\n",
       "    </tr>\n",
       "    <tr>\n",
       "      <th>1</th>\n",
       "      <td>3074</td>\n",
       "      <td>정은경 면역저하제 대상 이부실드 물량예산 확보 검토 방역당국이 아스트라제네카의 면역...</td>\n",
       "      <td>[0.0, 0.0, 0.0, 0.0, 0.0, 0.0, 0.0, 0.0, 0.0, ...</td>\n",
       "      <td>0</td>\n",
       "      <td>2</td>\n",
       "    </tr>\n",
       "    <tr>\n",
       "      <th>2</th>\n",
       "      <td>1789</td>\n",
       "      <td>삼성전자 2022년형 네오 QLED TV 14일까지 사전 판매 개시 삼성전자가 20...</td>\n",
       "      <td>[0.0, 0.0, 0.0, 0.0, 0.04822845993011052, 0.0,...</td>\n",
       "      <td>1</td>\n",
       "      <td>1</td>\n",
       "    </tr>\n",
       "    <tr>\n",
       "      <th>3</th>\n",
       "      <td>764</td>\n",
       "      <td>LGU 서강대와 메타버스 대학 만든다 LG유플러스는 서강대학교와 메타버스 유니버시티...</td>\n",
       "      <td>[0.0, 0.0, 0.0, 0.0, 0.0, 0.0, 0.0, 0.0, 0.0, ...</td>\n",
       "      <td>1</td>\n",
       "      <td>1</td>\n",
       "    </tr>\n",
       "    <tr>\n",
       "      <th>4</th>\n",
       "      <td>3822</td>\n",
       "      <td>세포막 모사한 초정밀 바이오센서 상용화 길 열었다 세포막은 세포 안팎의 보호막이자 ...</td>\n",
       "      <td>[0.0, 0.0, 0.0, 0.0, 0.0, 0.0, 0.0, 0.0, 0.0, ...</td>\n",
       "      <td>1</td>\n",
       "      <td>1</td>\n",
       "    </tr>\n",
       "    <tr>\n",
       "      <th>5</th>\n",
       "      <td>1101</td>\n",
       "      <td>구글 54억 달러에 사이버보안 업체 맨디언트 인수 구글은 8일 사이버보안 업체 맨디...</td>\n",
       "      <td>[0.0, 0.0, 0.0, 0.0, 0.07299524458843958, 0.0,...</td>\n",
       "      <td>2</td>\n",
       "      <td>1</td>\n",
       "    </tr>\n",
       "    <tr>\n",
       "      <th>6</th>\n",
       "      <td>1666</td>\n",
       "      <td>티몬 최고기술책임자로 황태현 CTO 선임 티몬은 최고기술책임자로 황태현 전 구글 검...</td>\n",
       "      <td>[0.0, 0.0, 0.0, 0.0, 0.0, 0.0, 0.0, 0.0, 0.0, ...</td>\n",
       "      <td>1</td>\n",
       "      <td>1</td>\n",
       "    </tr>\n",
       "    <tr>\n",
       "      <th>7</th>\n",
       "      <td>279</td>\n",
       "      <td>여성 위암 남성 보다 진단 어렵고 사망 원인도 달라 성별에 따라 위암의 특성과 사망...</td>\n",
       "      <td>[0.0, 0.0, 0.0, 0.0, 0.0, 0.0, 0.0, 0.0, 0.0, ...</td>\n",
       "      <td>2</td>\n",
       "      <td>2</td>\n",
       "    </tr>\n",
       "    <tr>\n",
       "      <th>8</th>\n",
       "      <td>3541</td>\n",
       "      <td>무빙 전암 연구소장 이륜차 매연소음 해결하고파 지난해 국내 배달 시장 규모는 약 2...</td>\n",
       "      <td>[0.0, 0.0, 0.0, 0.0, 0.025147560831665295, 0.0...</td>\n",
       "      <td>1</td>\n",
       "      <td>1</td>\n",
       "    </tr>\n",
       "    <tr>\n",
       "      <th>9</th>\n",
       "      <td>4382</td>\n",
       "      <td>오영호 전 산업자원부 제1차관 별세 오영호 전 산업자원부 제1차관오영호 전 산업자원...</td>\n",
       "      <td>[0.0, 0.0, 0.0, 0.0, 0.0, 0.0, 0.0, 0.0, 0.0, ...</td>\n",
       "      <td>2</td>\n",
       "      <td>2</td>\n",
       "    </tr>\n",
       "    <tr>\n",
       "      <th>10</th>\n",
       "      <td>2714</td>\n",
       "      <td>오미크론 증상발현 후 8일간 바이러스 배출7일 격리 후 조심해야 오미크론 변이바이러...</td>\n",
       "      <td>[0.0, 0.0, 0.0, 0.0, 0.0, 0.0, 0.0, 0.0, 0.0, ...</td>\n",
       "      <td>2</td>\n",
       "      <td>2</td>\n",
       "    </tr>\n",
       "    <tr>\n",
       "      <th>11</th>\n",
       "      <td>4283</td>\n",
       "      <td>작년 무선이어폰 출하량 3억대   애플 에어팟 1위 작년 무선이어폰 세계 출하량이 ...</td>\n",
       "      <td>[0.0, 0.0, 0.0, 0.0, 0.0, 0.0, 0.0, 0.0, 0.0, ...</td>\n",
       "      <td>1</td>\n",
       "      <td>1</td>\n",
       "    </tr>\n",
       "    <tr>\n",
       "      <th>12</th>\n",
       "      <td>2290</td>\n",
       "      <td>카모아 누적 거래대금 580억원 MZ세대가 주고객 렌트카 가격 비교 1등 앱 카모아...</td>\n",
       "      <td>[0.0, 0.0, 0.0, 0.0, 0.031637613238312524, 0.0...</td>\n",
       "      <td>1</td>\n",
       "      <td>1</td>\n",
       "    </tr>\n",
       "    <tr>\n",
       "      <th>13</th>\n",
       "      <td>3288</td>\n",
       "      <td>신성이엔지 삼성 평택 투자 수혜 신성이엔지가 삼성전자의 경기 평택캠퍼스 투자 수혜를...</td>\n",
       "      <td>[0.0, 0.0, 0.0, 0.0, 0.0, 0.0, 0.0, 0.0, 0.0, ...</td>\n",
       "      <td>1</td>\n",
       "      <td>1</td>\n",
       "    </tr>\n",
       "    <tr>\n",
       "      <th>14</th>\n",
       "      <td>4877</td>\n",
       "      <td>크롬 개인정보 보호하면서 맞춤형 광고 지원하는 제3의 길 제시 맞춤형 광고 업계가 ...</td>\n",
       "      <td>[0.0, 0.0, 0.0, 0.0, 0.0, 0.0, 0.0, 0.0, 0.0, ...</td>\n",
       "      <td>2</td>\n",
       "      <td>1</td>\n",
       "    </tr>\n",
       "  </tbody>\n",
       "</table>\n",
       "</div>"
      ],
      "text/plain": [
       "    index                                            content  \\\n",
       "0    1052  뤼이드 세계서 가장 혁신적인 기업 선정 뤼이드는 미국 기술 경제 전문지 패스트컴퍼니...   \n",
       "1    3074  정은경 면역저하제 대상 이부실드 물량예산 확보 검토 방역당국이 아스트라제네카의 면역...   \n",
       "2    1789  삼성전자 2022년형 네오 QLED TV 14일까지 사전 판매 개시 삼성전자가 20...   \n",
       "3     764  LGU 서강대와 메타버스 대학 만든다 LG유플러스는 서강대학교와 메타버스 유니버시티...   \n",
       "4    3822  세포막 모사한 초정밀 바이오센서 상용화 길 열었다 세포막은 세포 안팎의 보호막이자 ...   \n",
       "5    1101  구글 54억 달러에 사이버보안 업체 맨디언트 인수 구글은 8일 사이버보안 업체 맨디...   \n",
       "6    1666  티몬 최고기술책임자로 황태현 CTO 선임 티몬은 최고기술책임자로 황태현 전 구글 검...   \n",
       "7     279  여성 위암 남성 보다 진단 어렵고 사망 원인도 달라 성별에 따라 위암의 특성과 사망...   \n",
       "8    3541  무빙 전암 연구소장 이륜차 매연소음 해결하고파 지난해 국내 배달 시장 규모는 약 2...   \n",
       "9    4382  오영호 전 산업자원부 제1차관 별세 오영호 전 산업자원부 제1차관오영호 전 산업자원...   \n",
       "10   2714  오미크론 증상발현 후 8일간 바이러스 배출7일 격리 후 조심해야 오미크론 변이바이러...   \n",
       "11   4283  작년 무선이어폰 출하량 3억대   애플 에어팟 1위 작년 무선이어폰 세계 출하량이 ...   \n",
       "12   2290  카모아 누적 거래대금 580억원 MZ세대가 주고객 렌트카 가격 비교 1등 앱 카모아...   \n",
       "13   3288  신성이엔지 삼성 평택 투자 수혜 신성이엔지가 삼성전자의 경기 평택캠퍼스 투자 수혜를...   \n",
       "14   4877  크롬 개인정보 보호하면서 맞춤형 광고 지원하는 제3의 길 제시 맞춤형 광고 업계가 ...   \n",
       "\n",
       "                                                  vec  sentiment  label  \n",
       "0   [0.0, 0.0, 0.0, 0.0, 0.0, 0.0, 0.0, 0.0, 0.0, ...          1      1  \n",
       "1   [0.0, 0.0, 0.0, 0.0, 0.0, 0.0, 0.0, 0.0, 0.0, ...          0      2  \n",
       "2   [0.0, 0.0, 0.0, 0.0, 0.04822845993011052, 0.0,...          1      1  \n",
       "3   [0.0, 0.0, 0.0, 0.0, 0.0, 0.0, 0.0, 0.0, 0.0, ...          1      1  \n",
       "4   [0.0, 0.0, 0.0, 0.0, 0.0, 0.0, 0.0, 0.0, 0.0, ...          1      1  \n",
       "5   [0.0, 0.0, 0.0, 0.0, 0.07299524458843958, 0.0,...          2      1  \n",
       "6   [0.0, 0.0, 0.0, 0.0, 0.0, 0.0, 0.0, 0.0, 0.0, ...          1      1  \n",
       "7   [0.0, 0.0, 0.0, 0.0, 0.0, 0.0, 0.0, 0.0, 0.0, ...          2      2  \n",
       "8   [0.0, 0.0, 0.0, 0.0, 0.025147560831665295, 0.0...          1      1  \n",
       "9   [0.0, 0.0, 0.0, 0.0, 0.0, 0.0, 0.0, 0.0, 0.0, ...          2      2  \n",
       "10  [0.0, 0.0, 0.0, 0.0, 0.0, 0.0, 0.0, 0.0, 0.0, ...          2      2  \n",
       "11  [0.0, 0.0, 0.0, 0.0, 0.0, 0.0, 0.0, 0.0, 0.0, ...          1      1  \n",
       "12  [0.0, 0.0, 0.0, 0.0, 0.031637613238312524, 0.0...          1      1  \n",
       "13  [0.0, 0.0, 0.0, 0.0, 0.0, 0.0, 0.0, 0.0, 0.0, ...          1      1  \n",
       "14  [0.0, 0.0, 0.0, 0.0, 0.0, 0.0, 0.0, 0.0, 0.0, ...          2      1  "
      ]
     },
     "execution_count": 40,
     "metadata": {},
     "output_type": "execute_result"
    }
   ],
   "source": [
    "test_data.head(15)"
   ]
  },
  {
   "cell_type": "code",
   "execution_count": 41,
   "id": "c3d09ac1",
   "metadata": {},
   "outputs": [
    {
     "data": {
      "text/plain": [
       "1    638\n",
       "2    347\n",
       "0     18\n",
       "Name: label, dtype: int64"
      ]
     },
     "execution_count": 41,
     "metadata": {},
     "output_type": "execute_result"
    }
   ],
   "source": [
    "test_data.label.value_counts()"
   ]
  },
  {
   "cell_type": "code",
   "execution_count": 42,
   "id": "7aef2518",
   "metadata": {},
   "outputs": [
    {
     "data": {
      "text/plain": [
       "0.8354935194416749"
      ]
     },
     "execution_count": 42,
     "metadata": {},
     "output_type": "execute_result"
    }
   ],
   "source": [
    "from sklearn.metrics import f1_score\n",
    "f1_score(test_data.sentiment, test_pred, average='micro')"
   ]
  },
  {
   "cell_type": "code",
   "execution_count": 51,
   "id": "18c01dd0",
   "metadata": {},
   "outputs": [
    {
     "data": {
      "text/html": [
       "<div>\n",
       "<style scoped>\n",
       "    .dataframe tbody tr th:only-of-type {\n",
       "        vertical-align: middle;\n",
       "    }\n",
       "\n",
       "    .dataframe tbody tr th {\n",
       "        vertical-align: top;\n",
       "    }\n",
       "\n",
       "    .dataframe thead th {\n",
       "        text-align: right;\n",
       "    }\n",
       "</style>\n",
       "<table border=\"1\" class=\"dataframe\">\n",
       "  <thead>\n",
       "    <tr style=\"text-align: right;\">\n",
       "      <th></th>\n",
       "      <th>index</th>\n",
       "      <th>content</th>\n",
       "      <th>vec</th>\n",
       "      <th>sentiment</th>\n",
       "      <th>label</th>\n",
       "    </tr>\n",
       "  </thead>\n",
       "  <tbody>\n",
       "    <tr>\n",
       "      <th>41</th>\n",
       "      <td>2843</td>\n",
       "      <td>의료 데이터 기업 줄까 말까 문재인 정부는 정권 초부터 보건의료 빅데이터의 잠재가치...</td>\n",
       "      <td>[0.0, 0.0, 0.0, 0.0, 0.0, 0.0, 0.0, 0.0, 0.0, ...</td>\n",
       "      <td>0</td>\n",
       "      <td>0</td>\n",
       "    </tr>\n",
       "    <tr>\n",
       "      <th>109</th>\n",
       "      <td>4690</td>\n",
       "      <td>예금보험공사 우리금융 지분 2 2 매각 예금보험공사가 11일 주식 시장 개장 전 우...</td>\n",
       "      <td>[0.0, 0.0, 0.0, 0.0, 0.0, 0.0, 0.0, 0.0, 0.0, ...</td>\n",
       "      <td>0</td>\n",
       "      <td>0</td>\n",
       "    </tr>\n",
       "    <tr>\n",
       "      <th>144</th>\n",
       "      <td>4455</td>\n",
       "      <td>지금이 원격의료 도입을 위한 골든타임 혹자는 미래의료가 정보통신 기술과 결합해 개인...</td>\n",
       "      <td>[0.0, 0.0, 0.0, 0.0, 0.0, 0.0, 0.0, 0.0, 0.0, ...</td>\n",
       "      <td>0</td>\n",
       "      <td>0</td>\n",
       "    </tr>\n",
       "    <tr>\n",
       "      <th>178</th>\n",
       "      <td>4594</td>\n",
       "      <td>자가검사키트 중고나라당근마켓 판매구매는 불법 다음달 5일까지 코로나19 자가검사키트...</td>\n",
       "      <td>[0.0, 0.0, 0.0, 0.0, 0.0, 0.0, 0.0, 0.0, 0.0, ...</td>\n",
       "      <td>2</td>\n",
       "      <td>0</td>\n",
       "    </tr>\n",
       "    <tr>\n",
       "      <th>240</th>\n",
       "      <td>4675</td>\n",
       "      <td>CDC 오피오이드 진통제 처방에 대한 지침 변경 제안 미국 최고의 공중 보건 기관은...</td>\n",
       "      <td>[0.0, 0.0, 0.0, 0.0, 0.0, 0.0, 0.0, 0.0, 0.0, ...</td>\n",
       "      <td>2</td>\n",
       "      <td>0</td>\n",
       "    </tr>\n",
       "    <tr>\n",
       "      <th>242</th>\n",
       "      <td>4160</td>\n",
       "      <td>루카셴코 푸틴 어느 때보다 건강소련 붕괴는 비극 알렉산드르 루카셴코 벨라루스 대통령...</td>\n",
       "      <td>[0.0, 0.0, 0.0, 0.0, 0.0, 0.0, 0.0, 0.0, 0.0, ...</td>\n",
       "      <td>2</td>\n",
       "      <td>0</td>\n",
       "    </tr>\n",
       "    <tr>\n",
       "      <th>282</th>\n",
       "      <td>4094</td>\n",
       "      <td>아이폰SE3 1 8m 높이서 떨어뜨렸더니아이폰13과 내구성 비슷 애플이 최근 공개한...</td>\n",
       "      <td>[0.0, 0.0, 0.0, 0.0, 0.0, 0.0, 0.0, 0.0, 0.0, ...</td>\n",
       "      <td>1</td>\n",
       "      <td>0</td>\n",
       "    </tr>\n",
       "    <tr>\n",
       "      <th>319</th>\n",
       "      <td>2211</td>\n",
       "      <td>코로나19 널리 퍼질수록 위중증 환자는 감소 확산이 빠르지만 위중증 발전 위험은 낮...</td>\n",
       "      <td>[0.0, 0.0, 0.0, 0.0, 0.0, 0.0, 0.0, 0.0, 0.0, ...</td>\n",
       "      <td>0</td>\n",
       "      <td>0</td>\n",
       "    </tr>\n",
       "    <tr>\n",
       "      <th>358</th>\n",
       "      <td>2232</td>\n",
       "      <td>한국게임학회 확률형아이템 정보 공개 포함한 게임법 통과 요구 한국게임학회은 11일 ...</td>\n",
       "      <td>[0.0, 0.0, 0.0, 0.0, 0.0, 0.0, 0.0, 0.0, 0.0, ...</td>\n",
       "      <td>0</td>\n",
       "      <td>0</td>\n",
       "    </tr>\n",
       "    <tr>\n",
       "      <th>419</th>\n",
       "      <td>2072</td>\n",
       "      <td>3월 1일부터 확진자 동거인 의무격리 안한다수동감시 전환 다음달 1일부터 확진자의 ...</td>\n",
       "      <td>[0.0, 0.0, 0.0, 0.0, 0.0, 0.0, 0.0, 0.0, 0.0, ...</td>\n",
       "      <td>2</td>\n",
       "      <td>0</td>\n",
       "    </tr>\n",
       "    <tr>\n",
       "      <th>482</th>\n",
       "      <td>4521</td>\n",
       "      <td>기업 비트코인 투자한다면 522 자산 배분이 적정 법인의 암호화폐 투자에 대해 적정...</td>\n",
       "      <td>[0.0, 0.0, 0.0, 0.0, 0.02325799698661835, 0.0,...</td>\n",
       "      <td>0</td>\n",
       "      <td>0</td>\n",
       "    </tr>\n",
       "    <tr>\n",
       "      <th>498</th>\n",
       "      <td>2118</td>\n",
       "      <td>복지부 추경예산 5636억원 확정 올해 제1차 보건복지부 추가경정예산이 5천636억...</td>\n",
       "      <td>[0.0, 0.0, 0.0, 0.0, 0.0, 0.0, 0.0, 0.0, 0.0, ...</td>\n",
       "      <td>0</td>\n",
       "      <td>0</td>\n",
       "    </tr>\n",
       "    <tr>\n",
       "      <th>661</th>\n",
       "      <td>2251</td>\n",
       "      <td>코로나 N만명 시대   IT기업 원격근무 강화 오미크론 변이 대유행으로 코로나19 ...</td>\n",
       "      <td>[0.0, 0.0, 0.0, 0.0, 0.0, 0.0, 0.0, 0.0, 0.0, ...</td>\n",
       "      <td>0</td>\n",
       "      <td>0</td>\n",
       "    </tr>\n",
       "    <tr>\n",
       "      <th>694</th>\n",
       "      <td>4228</td>\n",
       "      <td>우크라러 4차 휴전 협상 16일 재개  타협 여지 있어 우크라이나와 러시아의 4차 ...</td>\n",
       "      <td>[0.0, 0.0, 0.0, 0.0, 0.0, 0.0, 0.0, 0.0, 0.0, ...</td>\n",
       "      <td>2</td>\n",
       "      <td>0</td>\n",
       "    </tr>\n",
       "    <tr>\n",
       "      <th>730</th>\n",
       "      <td>2095</td>\n",
       "      <td>벤처기업 제외 업종에 가상자산 사업자 빠져야 가상자산 거래소를 대변하는 한국디지털자...</td>\n",
       "      <td>[0.0, 0.0, 0.0, 0.0, 0.0, 0.0, 0.0, 0.0, 0.0, ...</td>\n",
       "      <td>0</td>\n",
       "      <td>0</td>\n",
       "    </tr>\n",
       "    <tr>\n",
       "      <th>962</th>\n",
       "      <td>4617</td>\n",
       "      <td>환경부 절수설비 절수등급 표시 의무화 앞으로 수입하는 절수설비에 절수등급 표시가 의...</td>\n",
       "      <td>[0.0, 0.0, 0.0, 0.0, 0.0, 0.0, 0.0, 0.0, 0.0, ...</td>\n",
       "      <td>0</td>\n",
       "      <td>0</td>\n",
       "    </tr>\n",
       "    <tr>\n",
       "      <th>964</th>\n",
       "      <td>2629</td>\n",
       "      <td>유행 정체는 분명해도 감소세 전환은 모른다 방역당국이 오미크론 변이바이러스 유행 정...</td>\n",
       "      <td>[0.0, 0.0, 0.0, 0.0, 0.0, 0.0, 0.0, 0.0, 0.0, ...</td>\n",
       "      <td>2</td>\n",
       "      <td>0</td>\n",
       "    </tr>\n",
       "    <tr>\n",
       "      <th>994</th>\n",
       "      <td>4453</td>\n",
       "      <td>연이은 횡령 사고에 웹케시 브랜치 4 0 도입 문의 증가 최근 기업  기관에서 연이...</td>\n",
       "      <td>[0.0, 0.0, 0.0, 0.0, 0.0, 0.0, 0.0, 0.0, 0.0, ...</td>\n",
       "      <td>1</td>\n",
       "      <td>0</td>\n",
       "    </tr>\n",
       "  </tbody>\n",
       "</table>\n",
       "</div>"
      ],
      "text/plain": [
       "     index                                            content  \\\n",
       "41    2843  의료 데이터 기업 줄까 말까 문재인 정부는 정권 초부터 보건의료 빅데이터의 잠재가치...   \n",
       "109   4690  예금보험공사 우리금융 지분 2 2 매각 예금보험공사가 11일 주식 시장 개장 전 우...   \n",
       "144   4455  지금이 원격의료 도입을 위한 골든타임 혹자는 미래의료가 정보통신 기술과 결합해 개인...   \n",
       "178   4594  자가검사키트 중고나라당근마켓 판매구매는 불법 다음달 5일까지 코로나19 자가검사키트...   \n",
       "240   4675  CDC 오피오이드 진통제 처방에 대한 지침 변경 제안 미국 최고의 공중 보건 기관은...   \n",
       "242   4160  루카셴코 푸틴 어느 때보다 건강소련 붕괴는 비극 알렉산드르 루카셴코 벨라루스 대통령...   \n",
       "282   4094  아이폰SE3 1 8m 높이서 떨어뜨렸더니아이폰13과 내구성 비슷 애플이 최근 공개한...   \n",
       "319   2211  코로나19 널리 퍼질수록 위중증 환자는 감소 확산이 빠르지만 위중증 발전 위험은 낮...   \n",
       "358   2232  한국게임학회 확률형아이템 정보 공개 포함한 게임법 통과 요구 한국게임학회은 11일 ...   \n",
       "419   2072  3월 1일부터 확진자 동거인 의무격리 안한다수동감시 전환 다음달 1일부터 확진자의 ...   \n",
       "482   4521  기업 비트코인 투자한다면 522 자산 배분이 적정 법인의 암호화폐 투자에 대해 적정...   \n",
       "498   2118  복지부 추경예산 5636억원 확정 올해 제1차 보건복지부 추가경정예산이 5천636억...   \n",
       "661   2251  코로나 N만명 시대   IT기업 원격근무 강화 오미크론 변이 대유행으로 코로나19 ...   \n",
       "694   4228  우크라러 4차 휴전 협상 16일 재개  타협 여지 있어 우크라이나와 러시아의 4차 ...   \n",
       "730   2095  벤처기업 제외 업종에 가상자산 사업자 빠져야 가상자산 거래소를 대변하는 한국디지털자...   \n",
       "962   4617  환경부 절수설비 절수등급 표시 의무화 앞으로 수입하는 절수설비에 절수등급 표시가 의...   \n",
       "964   2629  유행 정체는 분명해도 감소세 전환은 모른다 방역당국이 오미크론 변이바이러스 유행 정...   \n",
       "994   4453  연이은 횡령 사고에 웹케시 브랜치 4 0 도입 문의 증가 최근 기업  기관에서 연이...   \n",
       "\n",
       "                                                   vec  sentiment  label  \n",
       "41   [0.0, 0.0, 0.0, 0.0, 0.0, 0.0, 0.0, 0.0, 0.0, ...          0      0  \n",
       "109  [0.0, 0.0, 0.0, 0.0, 0.0, 0.0, 0.0, 0.0, 0.0, ...          0      0  \n",
       "144  [0.0, 0.0, 0.0, 0.0, 0.0, 0.0, 0.0, 0.0, 0.0, ...          0      0  \n",
       "178  [0.0, 0.0, 0.0, 0.0, 0.0, 0.0, 0.0, 0.0, 0.0, ...          2      0  \n",
       "240  [0.0, 0.0, 0.0, 0.0, 0.0, 0.0, 0.0, 0.0, 0.0, ...          2      0  \n",
       "242  [0.0, 0.0, 0.0, 0.0, 0.0, 0.0, 0.0, 0.0, 0.0, ...          2      0  \n",
       "282  [0.0, 0.0, 0.0, 0.0, 0.0, 0.0, 0.0, 0.0, 0.0, ...          1      0  \n",
       "319  [0.0, 0.0, 0.0, 0.0, 0.0, 0.0, 0.0, 0.0, 0.0, ...          0      0  \n",
       "358  [0.0, 0.0, 0.0, 0.0, 0.0, 0.0, 0.0, 0.0, 0.0, ...          0      0  \n",
       "419  [0.0, 0.0, 0.0, 0.0, 0.0, 0.0, 0.0, 0.0, 0.0, ...          2      0  \n",
       "482  [0.0, 0.0, 0.0, 0.0, 0.02325799698661835, 0.0,...          0      0  \n",
       "498  [0.0, 0.0, 0.0, 0.0, 0.0, 0.0, 0.0, 0.0, 0.0, ...          0      0  \n",
       "661  [0.0, 0.0, 0.0, 0.0, 0.0, 0.0, 0.0, 0.0, 0.0, ...          0      0  \n",
       "694  [0.0, 0.0, 0.0, 0.0, 0.0, 0.0, 0.0, 0.0, 0.0, ...          2      0  \n",
       "730  [0.0, 0.0, 0.0, 0.0, 0.0, 0.0, 0.0, 0.0, 0.0, ...          0      0  \n",
       "962  [0.0, 0.0, 0.0, 0.0, 0.0, 0.0, 0.0, 0.0, 0.0, ...          0      0  \n",
       "964  [0.0, 0.0, 0.0, 0.0, 0.0, 0.0, 0.0, 0.0, 0.0, ...          2      0  \n",
       "994  [0.0, 0.0, 0.0, 0.0, 0.0, 0.0, 0.0, 0.0, 0.0, ...          1      0  "
      ]
     },
     "execution_count": 51,
     "metadata": {},
     "output_type": "execute_result"
    }
   ],
   "source": [
    "test_data[test_data['label']==0]"
   ]
  },
  {
   "cell_type": "markdown",
   "id": "8365618b",
   "metadata": {},
   "source": [
    "### *metric*"
   ]
  },
  {
   "cell_type": "code",
   "execution_count": 24,
   "id": "d89a1652",
   "metadata": {},
   "outputs": [],
   "source": [
    "from sklearn.metrics import classification_report, f1_score, accuracy_score"
   ]
  },
  {
   "cell_type": "markdown",
   "id": "eae03054",
   "metadata": {},
   "source": [
    "##### *GridSearchCV*"
   ]
  },
  {
   "cell_type": "code",
   "execution_count": 25,
   "id": "7694ab3b",
   "metadata": {},
   "outputs": [],
   "source": [
    "from sklearn.model_selection import GridSearchCV"
   ]
  },
  {
   "cell_type": "code",
   "execution_count": 27,
   "id": "53122af8",
   "metadata": {},
   "outputs": [
    {
     "name": "stdout",
     "output_type": "stream",
     "text": [
      "최적 하이퍼 파라미터:  {'max_depth': 12, 'min_samples_leaf': 8, 'min_samples_split': 8, 'n_estimators': 200}\n",
      "최고 예측 정확도: 0.7116\n"
     ]
    }
   ],
   "source": [
    "params = { 'n_estimators' : [100, 200],\n",
    "           'max_depth' : [6, 8, 10, 12],\n",
    "           'min_samples_leaf' : [8, 12, 18],\n",
    "           'min_samples_split' : [8, 16, 20]\n",
    "            }\n",
    "\n",
    "# RandomForestClassifier 객체 생성 후 GridSearchCV 수행\n",
    "rf_clf = RandomForestClassifier(random_state = 0, n_jobs = -1)\n",
    "grid_cv = GridSearchCV(rf_clf,\n",
    "                       param_grid = params,\n",
    "                       cv = 3,\n",
    "                       n_jobs = -1)\n",
    "grid_cv.fit(train_vec, train_label)\n",
    "\n",
    "print('최적 하이퍼 파라미터: ', grid_cv.best_params_)\n",
    "print('최고 예측 정확도: {:.4f}'.format(grid_cv.best_score_))"
   ]
  },
  {
   "cell_type": "markdown",
   "id": "2fdec907",
   "metadata": {},
   "source": [
    "##### *최적 하이퍼 파라미터로 재학습*"
   ]
  },
  {
   "cell_type": "code",
   "execution_count": 28,
   "id": "74cddc68",
   "metadata": {},
   "outputs": [],
   "source": [
    "rf_clf = RandomForestClassifier(n_estimators = 200,          # 결정 트리 개수\n",
    "                                 max_depth = 12,            # 트리의 최대 깊이\n",
    "                                 min_samples_leaf = 8,      # 리프노드가 되기 위해 필요한 최소한의 샘플 데이터수 \n",
    "                                 min_samples_split = 8,    # 노드를 분할하기 위한 최소한의 샘플 데이터수(과적합을 제어하는데 사용)\n",
    "                                 random_state = 0,\n",
    "                                 n_jobs = -1)"
   ]
  },
  {
   "cell_type": "code",
   "execution_count": 29,
   "id": "8ccc5324",
   "metadata": {},
   "outputs": [
    {
     "data": {
      "text/plain": [
       "RandomForestClassifier(max_depth=12, min_samples_leaf=8, min_samples_split=8,\n",
       "                       n_estimators=200, n_jobs=-1, random_state=0)"
      ]
     },
     "execution_count": 29,
     "metadata": {},
     "output_type": "execute_result"
    }
   ],
   "source": [
    "rf_clf.fit(train_vec, train_label)"
   ]
  },
  {
   "cell_type": "code",
   "execution_count": 30,
   "id": "f4ac99bf",
   "metadata": {},
   "outputs": [],
   "source": [
    "test_pred = rf_clf.predict(test_vec)"
   ]
  },
  {
   "cell_type": "code",
   "execution_count": 31,
   "id": "65554e06",
   "metadata": {},
   "outputs": [],
   "source": [
    "# labeling\n",
    "test_data['label'] = test_pred"
   ]
  },
  {
   "cell_type": "code",
   "execution_count": 32,
   "id": "98f7f905",
   "metadata": {},
   "outputs": [
    {
     "data": {
      "text/html": [
       "<div>\n",
       "<style scoped>\n",
       "    .dataframe tbody tr th:only-of-type {\n",
       "        vertical-align: middle;\n",
       "    }\n",
       "\n",
       "    .dataframe tbody tr th {\n",
       "        vertical-align: top;\n",
       "    }\n",
       "\n",
       "    .dataframe thead th {\n",
       "        text-align: right;\n",
       "    }\n",
       "</style>\n",
       "<table border=\"1\" class=\"dataframe\">\n",
       "  <thead>\n",
       "    <tr style=\"text-align: right;\">\n",
       "      <th></th>\n",
       "      <th>index</th>\n",
       "      <th>content</th>\n",
       "      <th>vec</th>\n",
       "      <th>sentiment</th>\n",
       "      <th>label</th>\n",
       "    </tr>\n",
       "  </thead>\n",
       "  <tbody>\n",
       "    <tr>\n",
       "      <th>0</th>\n",
       "      <td>1052</td>\n",
       "      <td>뤼이드 세계서 가장 혁신적인 기업 선정 뤼이드는 미국 기술 경제 전문지 패스트컴퍼니...</td>\n",
       "      <td>[0.0, 0.0, 0.0, 0.0, 0.0, 0.0, 0.0, 0.0, 0.0, ...</td>\n",
       "      <td>1</td>\n",
       "      <td>1</td>\n",
       "    </tr>\n",
       "    <tr>\n",
       "      <th>1</th>\n",
       "      <td>3074</td>\n",
       "      <td>정은경 면역저하제 대상 이부실드 물량예산 확보 검토 방역당국이 아스트라제네카의 면역...</td>\n",
       "      <td>[0.0, 0.0, 0.0, 0.0, 0.0, 0.0, 0.0, 0.0, 0.0, ...</td>\n",
       "      <td>0</td>\n",
       "      <td>1</td>\n",
       "    </tr>\n",
       "    <tr>\n",
       "      <th>2</th>\n",
       "      <td>1789</td>\n",
       "      <td>삼성전자 2022년형 네오 QLED TV 14일까지 사전 판매 개시 삼성전자가 20...</td>\n",
       "      <td>[0.0, 0.0, 0.0, 0.0, 0.04822845993011052, 0.0,...</td>\n",
       "      <td>1</td>\n",
       "      <td>1</td>\n",
       "    </tr>\n",
       "    <tr>\n",
       "      <th>3</th>\n",
       "      <td>764</td>\n",
       "      <td>LGU 서강대와 메타버스 대학 만든다 LG유플러스는 서강대학교와 메타버스 유니버시티...</td>\n",
       "      <td>[0.0, 0.0, 0.0, 0.0, 0.0, 0.0, 0.0, 0.0, 0.0, ...</td>\n",
       "      <td>1</td>\n",
       "      <td>1</td>\n",
       "    </tr>\n",
       "    <tr>\n",
       "      <th>4</th>\n",
       "      <td>3822</td>\n",
       "      <td>세포막 모사한 초정밀 바이오센서 상용화 길 열었다 세포막은 세포 안팎의 보호막이자 ...</td>\n",
       "      <td>[0.0, 0.0, 0.0, 0.0, 0.0, 0.0, 0.0, 0.0, 0.0, ...</td>\n",
       "      <td>1</td>\n",
       "      <td>1</td>\n",
       "    </tr>\n",
       "    <tr>\n",
       "      <th>5</th>\n",
       "      <td>1101</td>\n",
       "      <td>구글 54억 달러에 사이버보안 업체 맨디언트 인수 구글은 8일 사이버보안 업체 맨디...</td>\n",
       "      <td>[0.0, 0.0, 0.0, 0.0, 0.07299524458843958, 0.0,...</td>\n",
       "      <td>2</td>\n",
       "      <td>1</td>\n",
       "    </tr>\n",
       "    <tr>\n",
       "      <th>6</th>\n",
       "      <td>1666</td>\n",
       "      <td>티몬 최고기술책임자로 황태현 CTO 선임 티몬은 최고기술책임자로 황태현 전 구글 검...</td>\n",
       "      <td>[0.0, 0.0, 0.0, 0.0, 0.0, 0.0, 0.0, 0.0, 0.0, ...</td>\n",
       "      <td>1</td>\n",
       "      <td>1</td>\n",
       "    </tr>\n",
       "    <tr>\n",
       "      <th>7</th>\n",
       "      <td>279</td>\n",
       "      <td>여성 위암 남성 보다 진단 어렵고 사망 원인도 달라 성별에 따라 위암의 특성과 사망...</td>\n",
       "      <td>[0.0, 0.0, 0.0, 0.0, 0.0, 0.0, 0.0, 0.0, 0.0, ...</td>\n",
       "      <td>2</td>\n",
       "      <td>1</td>\n",
       "    </tr>\n",
       "    <tr>\n",
       "      <th>8</th>\n",
       "      <td>3541</td>\n",
       "      <td>무빙 전암 연구소장 이륜차 매연소음 해결하고파 지난해 국내 배달 시장 규모는 약 2...</td>\n",
       "      <td>[0.0, 0.0, 0.0, 0.0, 0.025147560831665295, 0.0...</td>\n",
       "      <td>1</td>\n",
       "      <td>1</td>\n",
       "    </tr>\n",
       "    <tr>\n",
       "      <th>9</th>\n",
       "      <td>4382</td>\n",
       "      <td>오영호 전 산업자원부 제1차관 별세 오영호 전 산업자원부 제1차관오영호 전 산업자원...</td>\n",
       "      <td>[0.0, 0.0, 0.0, 0.0, 0.0, 0.0, 0.0, 0.0, 0.0, ...</td>\n",
       "      <td>2</td>\n",
       "      <td>1</td>\n",
       "    </tr>\n",
       "    <tr>\n",
       "      <th>10</th>\n",
       "      <td>2714</td>\n",
       "      <td>오미크론 증상발현 후 8일간 바이러스 배출7일 격리 후 조심해야 오미크론 변이바이러...</td>\n",
       "      <td>[0.0, 0.0, 0.0, 0.0, 0.0, 0.0, 0.0, 0.0, 0.0, ...</td>\n",
       "      <td>2</td>\n",
       "      <td>2</td>\n",
       "    </tr>\n",
       "    <tr>\n",
       "      <th>11</th>\n",
       "      <td>4283</td>\n",
       "      <td>작년 무선이어폰 출하량 3억대   애플 에어팟 1위 작년 무선이어폰 세계 출하량이 ...</td>\n",
       "      <td>[0.0, 0.0, 0.0, 0.0, 0.0, 0.0, 0.0, 0.0, 0.0, ...</td>\n",
       "      <td>1</td>\n",
       "      <td>1</td>\n",
       "    </tr>\n",
       "    <tr>\n",
       "      <th>12</th>\n",
       "      <td>2290</td>\n",
       "      <td>카모아 누적 거래대금 580억원 MZ세대가 주고객 렌트카 가격 비교 1등 앱 카모아...</td>\n",
       "      <td>[0.0, 0.0, 0.0, 0.0, 0.031637613238312524, 0.0...</td>\n",
       "      <td>1</td>\n",
       "      <td>1</td>\n",
       "    </tr>\n",
       "    <tr>\n",
       "      <th>13</th>\n",
       "      <td>3288</td>\n",
       "      <td>신성이엔지 삼성 평택 투자 수혜 신성이엔지가 삼성전자의 경기 평택캠퍼스 투자 수혜를...</td>\n",
       "      <td>[0.0, 0.0, 0.0, 0.0, 0.0, 0.0, 0.0, 0.0, 0.0, ...</td>\n",
       "      <td>1</td>\n",
       "      <td>1</td>\n",
       "    </tr>\n",
       "    <tr>\n",
       "      <th>14</th>\n",
       "      <td>4877</td>\n",
       "      <td>크롬 개인정보 보호하면서 맞춤형 광고 지원하는 제3의 길 제시 맞춤형 광고 업계가 ...</td>\n",
       "      <td>[0.0, 0.0, 0.0, 0.0, 0.0, 0.0, 0.0, 0.0, 0.0, ...</td>\n",
       "      <td>2</td>\n",
       "      <td>1</td>\n",
       "    </tr>\n",
       "  </tbody>\n",
       "</table>\n",
       "</div>"
      ],
      "text/plain": [
       "    index                                            content  \\\n",
       "0    1052  뤼이드 세계서 가장 혁신적인 기업 선정 뤼이드는 미국 기술 경제 전문지 패스트컴퍼니...   \n",
       "1    3074  정은경 면역저하제 대상 이부실드 물량예산 확보 검토 방역당국이 아스트라제네카의 면역...   \n",
       "2    1789  삼성전자 2022년형 네오 QLED TV 14일까지 사전 판매 개시 삼성전자가 20...   \n",
       "3     764  LGU 서강대와 메타버스 대학 만든다 LG유플러스는 서강대학교와 메타버스 유니버시티...   \n",
       "4    3822  세포막 모사한 초정밀 바이오센서 상용화 길 열었다 세포막은 세포 안팎의 보호막이자 ...   \n",
       "5    1101  구글 54억 달러에 사이버보안 업체 맨디언트 인수 구글은 8일 사이버보안 업체 맨디...   \n",
       "6    1666  티몬 최고기술책임자로 황태현 CTO 선임 티몬은 최고기술책임자로 황태현 전 구글 검...   \n",
       "7     279  여성 위암 남성 보다 진단 어렵고 사망 원인도 달라 성별에 따라 위암의 특성과 사망...   \n",
       "8    3541  무빙 전암 연구소장 이륜차 매연소음 해결하고파 지난해 국내 배달 시장 규모는 약 2...   \n",
       "9    4382  오영호 전 산업자원부 제1차관 별세 오영호 전 산업자원부 제1차관오영호 전 산업자원...   \n",
       "10   2714  오미크론 증상발현 후 8일간 바이러스 배출7일 격리 후 조심해야 오미크론 변이바이러...   \n",
       "11   4283  작년 무선이어폰 출하량 3억대   애플 에어팟 1위 작년 무선이어폰 세계 출하량이 ...   \n",
       "12   2290  카모아 누적 거래대금 580억원 MZ세대가 주고객 렌트카 가격 비교 1등 앱 카모아...   \n",
       "13   3288  신성이엔지 삼성 평택 투자 수혜 신성이엔지가 삼성전자의 경기 평택캠퍼스 투자 수혜를...   \n",
       "14   4877  크롬 개인정보 보호하면서 맞춤형 광고 지원하는 제3의 길 제시 맞춤형 광고 업계가 ...   \n",
       "\n",
       "                                                  vec  sentiment  label  \n",
       "0   [0.0, 0.0, 0.0, 0.0, 0.0, 0.0, 0.0, 0.0, 0.0, ...          1      1  \n",
       "1   [0.0, 0.0, 0.0, 0.0, 0.0, 0.0, 0.0, 0.0, 0.0, ...          0      1  \n",
       "2   [0.0, 0.0, 0.0, 0.0, 0.04822845993011052, 0.0,...          1      1  \n",
       "3   [0.0, 0.0, 0.0, 0.0, 0.0, 0.0, 0.0, 0.0, 0.0, ...          1      1  \n",
       "4   [0.0, 0.0, 0.0, 0.0, 0.0, 0.0, 0.0, 0.0, 0.0, ...          1      1  \n",
       "5   [0.0, 0.0, 0.0, 0.0, 0.07299524458843958, 0.0,...          2      1  \n",
       "6   [0.0, 0.0, 0.0, 0.0, 0.0, 0.0, 0.0, 0.0, 0.0, ...          1      1  \n",
       "7   [0.0, 0.0, 0.0, 0.0, 0.0, 0.0, 0.0, 0.0, 0.0, ...          2      1  \n",
       "8   [0.0, 0.0, 0.0, 0.0, 0.025147560831665295, 0.0...          1      1  \n",
       "9   [0.0, 0.0, 0.0, 0.0, 0.0, 0.0, 0.0, 0.0, 0.0, ...          2      1  \n",
       "10  [0.0, 0.0, 0.0, 0.0, 0.0, 0.0, 0.0, 0.0, 0.0, ...          2      2  \n",
       "11  [0.0, 0.0, 0.0, 0.0, 0.0, 0.0, 0.0, 0.0, 0.0, ...          1      1  \n",
       "12  [0.0, 0.0, 0.0, 0.0, 0.031637613238312524, 0.0...          1      1  \n",
       "13  [0.0, 0.0, 0.0, 0.0, 0.0, 0.0, 0.0, 0.0, 0.0, ...          1      1  \n",
       "14  [0.0, 0.0, 0.0, 0.0, 0.0, 0.0, 0.0, 0.0, 0.0, ...          2      1  "
      ]
     },
     "execution_count": 32,
     "metadata": {},
     "output_type": "execute_result"
    }
   ],
   "source": [
    "test_data.head(15)"
   ]
  },
  {
   "cell_type": "code",
   "execution_count": 33,
   "id": "a6fe2a25",
   "metadata": {},
   "outputs": [
    {
     "data": {
      "text/plain": [
       "1    818\n",
       "2    185\n",
       "Name: label, dtype: int64"
      ]
     },
     "execution_count": 33,
     "metadata": {},
     "output_type": "execute_result"
    }
   ],
   "source": [
    "test_data.label.value_counts()"
   ]
  },
  {
   "cell_type": "code",
   "execution_count": 34,
   "id": "e81cc1d9",
   "metadata": {},
   "outputs": [
    {
     "data": {
      "text/plain": [
       "0.7248255234297108"
      ]
     },
     "execution_count": 34,
     "metadata": {},
     "output_type": "execute_result"
    }
   ],
   "source": [
    "f1_score(test_data.sentiment, test_pred, average='micro')"
   ]
  },
  {
   "cell_type": "markdown",
   "id": "0a4f5d2c",
   "metadata": {},
   "source": [
    "##### *classification_report*"
   ]
  },
  {
   "cell_type": "code",
   "execution_count": 52,
   "id": "6b0930b0",
   "metadata": {},
   "outputs": [
    {
     "data": {
      "text/plain": [
       "'              precision    recall  f1-score   support\\n\\n           0       0.56      0.10      0.18        96\\n           1       0.84      0.95      0.89       568\\n           2       0.83      0.85      0.84       339\\n\\n    accuracy                           0.84      1003\\n   macro avg       0.74      0.64      0.64      1003\\nweighted avg       0.81      0.84      0.81      1003\\n'"
      ]
     },
     "execution_count": 52,
     "metadata": {},
     "output_type": "execute_result"
    }
   ],
   "source": [
    "classification_report(test_data.sentiment.tolist(), test_pred)"
   ]
  },
  {
   "cell_type": "markdown",
   "id": "1d17a11b",
   "metadata": {},
   "source": [
    "              precision    recall  f1-score   support\n",
    "0                 0.56      0.10      0.18        96\n",
    "1                 0.84      0.95      0.89       568\n",
    "2                 0.83      0.85      0.84       339\n",
    "accuracy                              0.84      1003\n",
    "macro avg         0.74      0.64      0.64      1003\n",
    "weighted avg       0.81      0.84      0.81      1003"
   ]
  },
  {
   "cell_type": "markdown",
   "id": "27348bbd",
   "metadata": {},
   "source": [
    "##### *f1_score*"
   ]
  },
  {
   "cell_type": "code",
   "execution_count": 53,
   "id": "38ce124f",
   "metadata": {},
   "outputs": [
    {
     "data": {
      "text/plain": [
       "0.8354935194416749"
      ]
     },
     "execution_count": 53,
     "metadata": {},
     "output_type": "execute_result"
    }
   ],
   "source": [
    "f1_score(test_data.sentiment, test_pred, average='micro')\n",
    "\n",
    "# 기본 random forest\n",
    "# 0.8344965104685942"
   ]
  },
  {
   "cell_type": "markdown",
   "id": "93852759",
   "metadata": {},
   "source": [
    "##### *accuracy*"
   ]
  },
  {
   "cell_type": "code",
   "execution_count": 54,
   "id": "3c186267",
   "metadata": {},
   "outputs": [
    {
     "data": {
      "text/plain": [
       "0.8354935194416749"
      ]
     },
     "execution_count": 54,
     "metadata": {},
     "output_type": "execute_result"
    }
   ],
   "source": [
    "accuracy_score(test_data.sentiment, test_pred)\n",
    "\n",
    "# 기본 random forest\n",
    "# 0.8344965104685942"
   ]
  },
  {
   "cell_type": "markdown",
   "id": "515b51b1",
   "metadata": {},
   "source": [
    "### *SVM*"
   ]
  },
  {
   "cell_type": "code",
   "execution_count": 20,
   "id": "e741ef57",
   "metadata": {},
   "outputs": [],
   "source": [
    "# svm_clf.fit(train_vec, train_label)"
   ]
  },
  {
   "cell_type": "code",
   "execution_count": 26,
   "id": "8da4b67e",
   "metadata": {},
   "outputs": [],
   "source": [
    "# score = svm_clf.predict(test_vec)"
   ]
  },
  {
   "cell_type": "code",
   "execution_count": 21,
   "id": "2ba1c920",
   "metadata": {},
   "outputs": [],
   "source": [
    "# test_data['label'] = score"
   ]
  },
  {
   "cell_type": "code",
   "execution_count": 22,
   "id": "b5721320",
   "metadata": {},
   "outputs": [],
   "source": [
    "# test_data.head(15)"
   ]
  },
  {
   "cell_type": "code",
   "execution_count": null,
   "id": "2a61b440",
   "metadata": {},
   "outputs": [],
   "source": []
  }
 ],
 "metadata": {
  "kernelspec": {
   "display_name": "Python 3",
   "language": "python",
   "name": "python3"
  },
  "language_info": {
   "codemirror_mode": {
    "name": "ipython",
    "version": 3
   },
   "file_extension": ".py",
   "mimetype": "text/x-python",
   "name": "python",
   "nbconvert_exporter": "python",
   "pygments_lexer": "ipython3",
   "version": "3.8.10"
  }
 },
 "nbformat": 4,
 "nbformat_minor": 5
}
